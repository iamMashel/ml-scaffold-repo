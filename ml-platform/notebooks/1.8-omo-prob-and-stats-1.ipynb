{
 "cells": [
  {
   "cell_type": "code",
   "execution_count": 14,
   "id": "e7b66b9c",
   "metadata": {},
   "outputs": [],
   "source": [
    "from scipy.stats import uniform\n",
    "import numpy as np\n",
    "import matplotlib.pyplot as plt\n",
    "from scipy.stats import binom"
   ]
  },
  {
   "cell_type": "code",
   "execution_count": 6,
   "id": "0613bbb8",
   "metadata": {},
   "outputs": [
    {
     "name": "stdout",
     "output_type": "stream",
     "text": [
      "Probability of waiting less than 5 minutes: 0.1667\n",
      "Probability of waiting more than 5 minutes: 0.8333\n",
      "Probability of waiting between 10 and 20 minutes: 0.3333\n"
     ]
    }
   ],
   "source": [
    "#min and max wait times for backup that happens every 30 min\n",
    "\n",
    "min_time = 0\n",
    "max_time = 30\n",
    "\n",
    "#calculate probability of waiting less than 5 mins\n",
    "prob_less_than_5 = uniform.cdf(5, min_time, max_time)\n",
    "\n",
    "print(f\"Probability of waiting less than 5 minutes: {prob_less_than_5:.4f}\")\n",
    "\n",
    "# calculate probability of waiting more than 5 mins\n",
    "prob_more_than_5 = 1 - prob_less_than_5\n",
    "print(f\"Probability of waiting more than 5 minutes: {prob_more_than_5:.4f}\")\n",
    "\n",
    "# prob_greater_than_5 = 1 - uniform.cdf(5, min_time, max_time)\n",
    "\n",
    "# Calculate probability of waiting 10-20 mins\n",
    "prob_between_10_and_20 = uniform.cdf(20, min_time, max_time) - uniform.cdf(10, min_time, max_time)\n",
    "print(f\"Probability of waiting between 10 and 20 minutes: {prob_between_10_and_20:.4f}\")\n"
   ]
  },
  {
   "cell_type": "code",
   "execution_count": 13,
   "id": "e44756eb",
   "metadata": {},
   "outputs": [
    {
     "data": {
      "image/png": "[encoded data removed]",
      "text/plain": [
       "<Figure size 640x480 with 1 Axes>"
      ]
     },
     "metadata": {},
     "output_type": "display_data"
    }
   ],
   "source": [
    "np.random.seed(334)  # For reproducibility\n",
    "\n",
    "wait_times = uniform.rvs(0, 30, size=1000)\n",
    "plt.hist(wait_times)\n",
    "plt.show()"
   ]
  },
  {
   "cell_type": "code",
   "execution_count": 15,
   "id": "3c48cf4f",
   "metadata": {},
   "outputs": [
    {
     "name": "stdout",
     "output_type": "stream",
     "text": [
      "Random samples: [5 6 4 3 5 4 4 7 5 4]\n",
      "Probability of getting 5 or fewer successes: 0.6230\n"
     ]
    }
   ],
   "source": [
    "# rvs generates random numbers, while cdf calculates a probability.\n",
    "# rvs is used for simulations, while cdf is used for analyzing probabilities.\n",
    "\n",
    "# Binomial distro with n=10 trials and p=0.5 probability of success\n",
    "\n",
    "n=10\n",
    "p=0.5\n",
    "binomial_dist = binom(n, p)\n",
    "\n",
    "# Generate 10 random samples from the binomial distribution\n",
    "random_samples = binomial_dist.rvs(size=10)\n",
    "print(f\"Random samples: {random_samples}\")\n",
    "\n",
    "# Calculate the probability of getting 5 or fewer successes\n",
    "prob_5_or_fewer = binomial_dist.cdf(5)\n",
    "print(f\"Probability of getting 5 or fewer successes: {prob_5_or_fewer:.4f}\")"
   ]
  },
  {
   "cell_type": "code",
   "execution_count": null,
   "id": "f9ce32ae",
   "metadata": {},
   "outputs": [],
   "source": []
  }
 ],
 "metadata": {
  "kernelspec": {
   "display_name": "scaffolds",
   "language": "python",
   "name": "python3"
  },
  "language_info": {
   "codemirror_mode": {
    "name": "ipython",
    "version": 3
   },
   "file_extension": ".py",
   "mimetype": "text/x-python",
   "name": "python",
   "nbconvert_exporter": "python",
   "pygments_lexer": "ipython3",
   "version": "3.12.9"
  }
 },
 "nbformat": 4,
 "nbformat_minor": 5
}
