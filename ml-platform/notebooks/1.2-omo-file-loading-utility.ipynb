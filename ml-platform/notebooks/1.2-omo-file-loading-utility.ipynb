{
 "cells": [
  {
   "cell_type": "code",
   "execution_count": 2,
   "id": "fa0c786a",
   "metadata": {},
   "outputs": [],
   "source": [
    "import sys\n",
    "import plotly.express as px\n",
    "from scipy.stats import mannwhitneyu\n",
    "from pathlib import Path #for relative path handling\n",
    "import pandas as pd \n",
    "import duckdb\n"
   ]
  },
  {
   "cell_type": "code",
   "execution_count": 3,
   "id": "accfba83",
   "metadata": {},
   "outputs": [
    {
     "name": "stdout",
     "output_type": "stream",
     "text": [
      "✅ CSV loaded successfully: c:\\Users\\mashel\\Desktop\\ml-scaffolds\\ml-platform\\data\\raw\\survey_data.csv\n"
     ]
    },
    {
     "data": {
      "text/html": [
       "<div>\n",
       "<style scoped>\n",
       "    .dataframe tbody tr th:only-of-type {\n",
       "        vertical-align: middle;\n",
       "    }\n",
       "\n",
       "    .dataframe tbody tr th {\n",
       "        vertical-align: top;\n",
       "    }\n",
       "\n",
       "    .dataframe thead th {\n",
       "        text-align: right;\n",
       "    }\n",
       "</style>\n",
       "<table border=\"1\" class=\"dataframe\">\n",
       "  <thead>\n",
       "    <tr style=\"text-align: right;\">\n",
       "      <th></th>\n",
       "      <th></th>\n",
       "      <th>Growth_Firm;question_2_row_1_transformed;question_2_row_2_transformed;question_3_row_1;question_3_row_2;question_3_row_3;question_3_row_4;question_3_row_5;question_3_row_6;question_3_row_7;question_3_row_8;question_3_row_9;question_3_row_10;question_3_row_11;question_3_row_12;question_3_row_13;question_3_row_14;question_3_row_15;question_3_row_16;question_4_row_1;question_4_row_2;question_4_row_3;question_4_row_4;question_5_row_1;question_5_row_2;question_5_row_3;question_5_row_4;question_5_row_5;question_5_row_6;question_5_row_7;question_5_row_8;question_5_row_9;question_5_row_10;question_6_row_1;question_6_row_2;question_7_row_1</th>\n",
       "    </tr>\n",
       "  </thead>\n",
       "  <tbody>\n",
       "    <tr>\n",
       "      <th>0;35</th>\n",
       "      <th>1351351351351;50</th>\n",
       "      <td>7509391319659;4;5;5;4;3;3;4;4;4;2;2;2;2;4;4;3;...</td>\n",
       "    </tr>\n",
       "    <tr>\n",
       "      <th>0;23</th>\n",
       "      <th>0180426462548;51</th>\n",
       "      <td>182200341316;5;4;4;4;4;4;4;5;5;4;2;4;2;4;4;3;4...</td>\n",
       "    </tr>\n",
       "    <tr>\n",
       "      <th>0;86</th>\n",
       "      <th>6404715127701;62</th>\n",
       "      <td>9326385264931;3;4;4;4;4;3;4;5;3;3;3;5;3;4;4;4;...</td>\n",
       "    </tr>\n",
       "    <tr>\n",
       "      <th>0;17</th>\n",
       "      <th>6470588235294;39</th>\n",
       "      <td>1304347826087;3;4;5;4;4;4;5;5;3;3;4;5;4;4;5;3;...</td>\n",
       "    </tr>\n",
       "    <tr>\n",
       "      <th>0;60;32</th>\n",
       "      <th>8021248339973;4;4;4;4;3;4;4;4;5;5;2;3;1;2;4;2;4;2;2;2;2;2;2;4;2;4;2;3;3;4;5;2;2</th>\n",
       "      <td>NaN</td>\n",
       "    </tr>\n",
       "  </tbody>\n",
       "</table>\n",
       "</div>"
      ],
      "text/plain": [
       "                                                           Growth_Firm;question_2_row_1_transformed;question_2_row_2_transformed;question_3_row_1;question_3_row_2;question_3_row_3;question_3_row_4;question_3_row_5;question_3_row_6;question_3_row_7;question_3_row_8;question_3_row_9;question_3_row_10;question_3_row_11;question_3_row_12;question_3_row_13;question_3_row_14;question_3_row_15;question_3_row_16;question_4_row_1;question_4_row_2;question_4_row_3;question_4_row_4;question_5_row_1;question_5_row_2;question_5_row_3;question_5_row_4;question_5_row_5;question_5_row_6;question_5_row_7;question_5_row_8;question_5_row_9;question_5_row_10;question_6_row_1;question_6_row_2;question_7_row_1\n",
       "0;35    1351351351351;50                                    7509391319659;4;5;5;4;3;3;4;4;4;2;2;2;2;4;4;3;...                                                                                                                                                                                                                                                                                                                                                                                                                                                                                                                                                                                                            \n",
       "0;23    0180426462548;51                                    182200341316;5;4;4;4;4;4;4;5;5;4;2;4;2;4;4;3;4...                                                                                                                                                                                                                                                                                                                                                                                                                                                                                                                                                                                                            \n",
       "0;86    6404715127701;62                                    9326385264931;3;4;4;4;4;3;4;5;3;3;3;5;3;4;4;4;...                                                                                                                                                                                                                                                                                                                                                                                                                                                                                                                                                                                                            \n",
       "0;17    6470588235294;39                                    1304347826087;3;4;5;4;4;4;5;5;3;3;4;5;4;4;5;3;...                                                                                                                                                                                                                                                                                                                                                                                                                                                                                                                                                                                                            \n",
       "0;60;32 8021248339973;4;4;4;4;3;4;4;4;5;5;2;3;1;2;4;2;4...                                                NaN                                                                                                                                                                                                                                                                                                                                                                                                                                                                                                                                                                                                            "
      ]
     },
     "metadata": {},
     "output_type": "display_data"
    }
   ],
   "source": [
    "sys.path.append(str(Path().resolve().parent / \"shared\" / \"utils\"))\n",
    "\n",
    "from data_loading import load_csv\n",
    "\n",
    "# Robust, reusable CSV loading\n",
    "df = load_csv('survey_data.csv')\n",
    "if df is not None:\n",
    "    display(df.head())"
   ]
  },
  {
   "cell_type": "code",
   "execution_count": 4,
   "id": "29e30b18",
   "metadata": {},
   "outputs": [
    {
     "data": {
      "text/html": [
       "<div>\n",
       "<style scoped>\n",
       "    .dataframe tbody tr th:only-of-type {\n",
       "        vertical-align: middle;\n",
       "    }\n",
       "\n",
       "    .dataframe tbody tr th {\n",
       "        vertical-align: top;\n",
       "    }\n",
       "\n",
       "    .dataframe thead th {\n",
       "        text-align: right;\n",
       "    }\n",
       "</style>\n",
       "<table border=\"1\" class=\"dataframe\">\n",
       "  <thead>\n",
       "    <tr style=\"text-align: right;\">\n",
       "      <th></th>\n",
       "      <th>Growth_Firm</th>\n",
       "      <th>question_2_row_1_transformed</th>\n",
       "      <th>question_2_row_2_transformed</th>\n",
       "      <th>question_3_row_1</th>\n",
       "      <th>question_3_row_2</th>\n",
       "      <th>question_3_row_3</th>\n",
       "      <th>question_3_row_4</th>\n",
       "      <th>question_3_row_5</th>\n",
       "      <th>question_3_row_6</th>\n",
       "      <th>question_3_row_7</th>\n",
       "      <th>...</th>\n",
       "      <th>question_5_row_4</th>\n",
       "      <th>question_5_row_5</th>\n",
       "      <th>question_5_row_6</th>\n",
       "      <th>question_5_row_7</th>\n",
       "      <th>question_5_row_8</th>\n",
       "      <th>question_5_row_9</th>\n",
       "      <th>question_5_row_10</th>\n",
       "      <th>question_6_row_1</th>\n",
       "      <th>question_6_row_2</th>\n",
       "      <th>question_7_row_1</th>\n",
       "    </tr>\n",
       "  </thead>\n",
       "  <tbody>\n",
       "    <tr>\n",
       "      <th>0</th>\n",
       "      <td>0</td>\n",
       "      <td>35.135135</td>\n",
       "      <td>50.750939</td>\n",
       "      <td>4</td>\n",
       "      <td>5</td>\n",
       "      <td>5</td>\n",
       "      <td>4</td>\n",
       "      <td>3</td>\n",
       "      <td>3</td>\n",
       "      <td>4</td>\n",
       "      <td>...</td>\n",
       "      <td>4</td>\n",
       "      <td>2</td>\n",
       "      <td>4</td>\n",
       "      <td>2</td>\n",
       "      <td>3</td>\n",
       "      <td>2</td>\n",
       "      <td>5</td>\n",
       "      <td>4</td>\n",
       "      <td>5</td>\n",
       "      <td>1</td>\n",
       "    </tr>\n",
       "    <tr>\n",
       "      <th>1</th>\n",
       "      <td>0</td>\n",
       "      <td>23.018043</td>\n",
       "      <td>51.182200</td>\n",
       "      <td>5</td>\n",
       "      <td>4</td>\n",
       "      <td>4</td>\n",
       "      <td>4</td>\n",
       "      <td>4</td>\n",
       "      <td>4</td>\n",
       "      <td>4</td>\n",
       "      <td>...</td>\n",
       "      <td>3</td>\n",
       "      <td>4</td>\n",
       "      <td>3</td>\n",
       "      <td>3</td>\n",
       "      <td>3</td>\n",
       "      <td>4</td>\n",
       "      <td>3</td>\n",
       "      <td>5</td>\n",
       "      <td>4</td>\n",
       "      <td>1</td>\n",
       "    </tr>\n",
       "    <tr>\n",
       "      <th>2</th>\n",
       "      <td>0</td>\n",
       "      <td>86.640472</td>\n",
       "      <td>62.932639</td>\n",
       "      <td>3</td>\n",
       "      <td>4</td>\n",
       "      <td>4</td>\n",
       "      <td>4</td>\n",
       "      <td>4</td>\n",
       "      <td>3</td>\n",
       "      <td>4</td>\n",
       "      <td>...</td>\n",
       "      <td>5</td>\n",
       "      <td>4</td>\n",
       "      <td>4</td>\n",
       "      <td>4</td>\n",
       "      <td>4</td>\n",
       "      <td>&lt;NA&gt;</td>\n",
       "      <td>&lt;NA&gt;</td>\n",
       "      <td>5</td>\n",
       "      <td>3</td>\n",
       "      <td>1</td>\n",
       "    </tr>\n",
       "    <tr>\n",
       "      <th>3</th>\n",
       "      <td>0</td>\n",
       "      <td>17.647059</td>\n",
       "      <td>39.130435</td>\n",
       "      <td>3</td>\n",
       "      <td>4</td>\n",
       "      <td>5</td>\n",
       "      <td>4</td>\n",
       "      <td>4</td>\n",
       "      <td>4</td>\n",
       "      <td>5</td>\n",
       "      <td>...</td>\n",
       "      <td>3</td>\n",
       "      <td>3</td>\n",
       "      <td>4</td>\n",
       "      <td>4</td>\n",
       "      <td>4</td>\n",
       "      <td>3</td>\n",
       "      <td>3</td>\n",
       "      <td>3</td>\n",
       "      <td>3</td>\n",
       "      <td>1</td>\n",
       "    </tr>\n",
       "    <tr>\n",
       "      <th>4</th>\n",
       "      <td>0</td>\n",
       "      <td>60.000000</td>\n",
       "      <td>32.802125</td>\n",
       "      <td>4</td>\n",
       "      <td>4</td>\n",
       "      <td>4</td>\n",
       "      <td>4</td>\n",
       "      <td>3</td>\n",
       "      <td>4</td>\n",
       "      <td>4</td>\n",
       "      <td>...</td>\n",
       "      <td>4</td>\n",
       "      <td>2</td>\n",
       "      <td>4</td>\n",
       "      <td>2</td>\n",
       "      <td>3</td>\n",
       "      <td>3</td>\n",
       "      <td>4</td>\n",
       "      <td>5</td>\n",
       "      <td>2</td>\n",
       "      <td>2</td>\n",
       "    </tr>\n",
       "  </tbody>\n",
       "</table>\n",
       "<p>5 rows × 36 columns</p>\n",
       "</div>"
      ],
      "text/plain": [
       "   Growth_Firm  question_2_row_1_transformed  question_2_row_2_transformed  \\\n",
       "0            0                     35.135135                     50.750939   \n",
       "1            0                     23.018043                     51.182200   \n",
       "2            0                     86.640472                     62.932639   \n",
       "3            0                     17.647059                     39.130435   \n",
       "4            0                     60.000000                     32.802125   \n",
       "\n",
       "   question_3_row_1  question_3_row_2  question_3_row_3  question_3_row_4  \\\n",
       "0                 4                 5                 5                 4   \n",
       "1                 5                 4                 4                 4   \n",
       "2                 3                 4                 4                 4   \n",
       "3                 3                 4                 5                 4   \n",
       "4                 4                 4                 4                 4   \n",
       "\n",
       "   question_3_row_5  question_3_row_6  question_3_row_7  ...  \\\n",
       "0                 3                 3                 4  ...   \n",
       "1                 4                 4                 4  ...   \n",
       "2                 4                 3                 4  ...   \n",
       "3                 4                 4                 5  ...   \n",
       "4                 3                 4                 4  ...   \n",
       "\n",
       "   question_5_row_4  question_5_row_5  question_5_row_6  question_5_row_7  \\\n",
       "0                 4                 2                 4                 2   \n",
       "1                 3                 4                 3                 3   \n",
       "2                 5                 4                 4                 4   \n",
       "3                 3                 3                 4                 4   \n",
       "4                 4                 2                 4                 2   \n",
       "\n",
       "   question_5_row_8  question_5_row_9  question_5_row_10  question_6_row_1  \\\n",
       "0                 3                 2                  5                 4   \n",
       "1                 3                 4                  3                 5   \n",
       "2                 4              <NA>               <NA>                 5   \n",
       "3                 4                 3                  3                 3   \n",
       "4                 3                 3                  4                 5   \n",
       "\n",
       "   question_6_row_2  question_7_row_1  \n",
       "0                 5                 1  \n",
       "1                 4                 1  \n",
       "2                 3                 1  \n",
       "3                 3                 1  \n",
       "4                 2                 2  \n",
       "\n",
       "[5 rows x 36 columns]"
      ]
     },
     "metadata": {},
     "output_type": "display_data"
    }
   ],
   "source": [
    "from data_loading import duckdb_read_csv\n",
    "\n",
    "duck_df = duckdb_read_csv('survey_data.csv')\n",
    "if duck_df is not None:\n",
    "    display(duck_df.head())"
   ]
  },
  {
   "cell_type": "code",
   "execution_count": 5,
   "id": "ecc681d1",
   "metadata": {},
   "outputs": [
    {
     "name": "stdout",
     "output_type": "stream",
     "text": [
      "Available CSV files: ['audible_raw.csv', 'crimes.csv', 'diabetes.csv', 'sales_data_sample.csv', 'survey_data.csv', 'survey_questions.csv', 'test.csv', 'What_does_it_take_to_generate_new_growth_Survey_data.csv', 'yes_no.csv']\n"
     ]
    }
   ],
   "source": [
    "# List available CSV files in the data directory\n",
    "\n",
    "from data_loading import list_csv_files\n",
    "\n",
    "print(\"Available CSV files:\", list_csv_files())"
   ]
  },
  {
   "cell_type": "code",
   "execution_count": 6,
   "id": "76de5701",
   "metadata": {},
   "outputs": [
    {
     "name": "stdout",
     "output_type": "stream",
     "text": [
      "❌ File not found: c:\\Users\\mashel\\Desktop\\ml-scaffolds\\ml-platform\\data\\raw\\non_existent_file.csv\n"
     ]
    }
   ],
   "source": [
    "# Test error handling\n",
    "\n",
    "df_missing = load_csv('non_existent_file.csv')"
   ]
  },
  {
   "cell_type": "code",
   "execution_count": 7,
   "id": "a8b3c58d",
   "metadata": {},
   "outputs": [
    {
     "name": "stdout",
     "output_type": "stream",
     "text": [
      "✅ CSV loaded successfully: c:\\Users\\mashel\\Desktop\\ml-scaffolds\\ml-platform\\data\\raw\\survey_data.csv\n"
     ]
    }
   ],
   "source": [
    "# test loading with different separator\n",
    "df_semicolon = load_csv('survey_data.csv', sep=';')"
   ]
  },
  {
   "cell_type": "code",
   "execution_count": 8,
   "id": "c976ce3a",
   "metadata": {},
   "outputs": [
    {
     "name": "stdout",
     "output_type": "stream",
     "text": [
      "c:\\Users\\mashel\\Desktop\\ml-scaffolds\\ml-platform\\data\\raw\\survey_data.csv\n"
     ]
    }
   ],
   "source": [
    "# Get the path to a CSV file directly\n",
    "from data_loading import get_csv_path\n",
    "\n",
    "print(get_csv_path('survey_data.csv'))"
   ]
  },
  {
   "cell_type": "code",
   "execution_count": 9,
   "id": "55be754a",
   "metadata": {},
   "outputs": [
    {
     "name": "stdout",
     "output_type": "stream",
     "text": [
      "✅ CSV loaded successfully: c:\\Users\\mashel\\Desktop\\ml-scaffolds\\ml-platform\\data\\raw\\test.csv\n"
     ]
    },
    {
     "data": {
      "text/html": [
       "<div>\n",
       "<style scoped>\n",
       "    .dataframe tbody tr th:only-of-type {\n",
       "        vertical-align: middle;\n",
       "    }\n",
       "\n",
       "    .dataframe tbody tr th {\n",
       "        vertical-align: top;\n",
       "    }\n",
       "\n",
       "    .dataframe thead th {\n",
       "        text-align: right;\n",
       "    }\n",
       "</style>\n",
       "<table border=\"1\" class=\"dataframe\">\n",
       "  <thead>\n",
       "    <tr style=\"text-align: right;\">\n",
       "      <th></th>\n",
       "      <th>a</th>\n",
       "      <th>b</th>\n",
       "    </tr>\n",
       "  </thead>\n",
       "  <tbody>\n",
       "    <tr>\n",
       "      <th>0</th>\n",
       "      <td>1</td>\n",
       "      <td>3</td>\n",
       "    </tr>\n",
       "    <tr>\n",
       "      <th>1</th>\n",
       "      <td>2</td>\n",
       "      <td>4</td>\n",
       "    </tr>\n",
       "  </tbody>\n",
       "</table>\n",
       "</div>"
      ],
      "text/plain": [
       "   a  b\n",
       "0  1  3\n",
       "1  2  4"
      ]
     },
     "metadata": {},
     "output_type": "display_data"
    }
   ],
   "source": [
    "# Round-trip loading\n",
    "\n",
    "# Save a test CSV\n",
    "test_df = pd.DataFrame({'a': [1, 2], 'b': [3, 4]})\n",
    "test_df.to_csv(get_csv_path('test.csv'), index=False)\n",
    "\n",
    "# Load it back\n",
    "df_test = load_csv('test.csv')\n",
    "display(df_test)"
   ]
  }
 ],
 "metadata": {
  "kernelspec": {
   "display_name": "scaffolds",
   "language": "python",
   "name": "python3"
  },
  "language_info": {
   "codemirror_mode": {
    "name": "ipython",
    "version": 3
   },
   "file_extension": ".py",
   "mimetype": "text/x-python",
   "name": "python",
   "nbconvert_exporter": "python",
   "pygments_lexer": "ipython3",
   "version": "3.12.9"
  }
 },
 "nbformat": 4,
 "nbformat_minor": 5
}
