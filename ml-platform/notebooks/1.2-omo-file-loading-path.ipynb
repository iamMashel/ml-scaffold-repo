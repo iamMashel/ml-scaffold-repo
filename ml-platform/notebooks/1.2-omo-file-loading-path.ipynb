{
 "cells": [
  {
   "cell_type": "code",
   "execution_count": 1,
   "id": "b59eceb4",
   "metadata": {},
   "outputs": [],
   "source": [
    "from pathlib import Path\n",
    "import pandas as pd"
   ]
  },
  {
   "cell_type": "code",
   "execution_count": 17,
   "id": "ac156b14",
   "metadata": {},
   "outputs": [
    {
     "name": "stdout",
     "output_type": "stream",
     "text": [
      "✅ CSV loaded successfully.\n"
     ]
    },
    {
     "data": {
      "text/html": [
       "<div>\n",
       "<style scoped>\n",
       "    .dataframe tbody tr th:only-of-type {\n",
       "        vertical-align: middle;\n",
       "    }\n",
       "\n",
       "    .dataframe tbody tr th {\n",
       "        vertical-align: top;\n",
       "    }\n",
       "\n",
       "    .dataframe thead th {\n",
       "        text-align: right;\n",
       "    }\n",
       "</style>\n",
       "<table border=\"1\" class=\"dataframe\">\n",
       "  <thead>\n",
       "    <tr style=\"text-align: right;\">\n",
       "      <th></th>\n",
       "      <th>column</th>\n",
       "      <th>question</th>\n",
       "      <th>row</th>\n",
       "      <th>section</th>\n",
       "      <th>title</th>\n",
       "      <th>response_type</th>\n",
       "    </tr>\n",
       "  </thead>\n",
       "  <tbody>\n",
       "    <tr>\n",
       "      <th>0</th>\n",
       "      <td>question_2_row_1_transformed</td>\n",
       "      <td>2</td>\n",
       "      <td>1</td>\n",
       "      <td>estimated growth</td>\n",
       "      <td>Expected employee count in five years (as a pe...</td>\n",
       "      <td>numeric</td>\n",
       "    </tr>\n",
       "    <tr>\n",
       "      <th>1</th>\n",
       "      <td>question_2_row_2_transformed</td>\n",
       "      <td>2</td>\n",
       "      <td>2</td>\n",
       "      <td>estimated growth</td>\n",
       "      <td>Expected revenue in five years (as a percent f...</td>\n",
       "      <td>numeric</td>\n",
       "    </tr>\n",
       "    <tr>\n",
       "      <th>2</th>\n",
       "      <td>question_3_row_1</td>\n",
       "      <td>3</td>\n",
       "      <td>1</td>\n",
       "      <td>company culture</td>\n",
       "      <td>Employees are encouraged to be creative</td>\n",
       "      <td>agree_disagree</td>\n",
       "    </tr>\n",
       "    <tr>\n",
       "      <th>3</th>\n",
       "      <td>question_3_row_2</td>\n",
       "      <td>3</td>\n",
       "      <td>2</td>\n",
       "      <td>company culture</td>\n",
       "      <td>Managers are expected to be creative problem s...</td>\n",
       "      <td>agree_disagree</td>\n",
       "    </tr>\n",
       "    <tr>\n",
       "      <th>4</th>\n",
       "      <td>question_3_row_3</td>\n",
       "      <td>3</td>\n",
       "      <td>3</td>\n",
       "      <td>company culture</td>\n",
       "      <td>Employees' ability to function creatively is r...</td>\n",
       "      <td>agree_disagree</td>\n",
       "    </tr>\n",
       "  </tbody>\n",
       "</table>\n",
       "</div>"
      ],
      "text/plain": [
       "                         column  question  row           section  \\\n",
       "0  question_2_row_1_transformed         2    1  estimated growth   \n",
       "1  question_2_row_2_transformed         2    2  estimated growth   \n",
       "2              question_3_row_1         3    1   company culture   \n",
       "3              question_3_row_2         3    2   company culture   \n",
       "4              question_3_row_3         3    3   company culture   \n",
       "\n",
       "                                               title   response_type  \n",
       "0  Expected employee count in five years (as a pe...         numeric  \n",
       "1  Expected revenue in five years (as a percent f...         numeric  \n",
       "2            Employees are encouraged to be creative  agree_disagree  \n",
       "3  Managers are expected to be creative problem s...  agree_disagree  \n",
       "4  Employees' ability to function creatively is r...  agree_disagree  "
      ]
     },
     "metadata": {},
     "output_type": "display_data"
    }
   ],
   "source": [
    "# Automatically locate project root\n",
    "if (Path.cwd() / 'data').exists():\n",
    "    project_root = Path.cwd()\n",
    "else:\n",
    "    project_root = Path.cwd().parents[0]\n",
    "\n",
    "# Define CSV path\n",
    "csv_path = project_root / 'data' / 'raw' / 'survey_questions.csv'\n",
    "\n",
    "# Load the CSV\n",
    "try:\n",
    "    df = pd.read_csv(csv_path)\n",
    "    print(\"✅ CSV loaded successfully.\")\n",
    "    display(df.head())\n",
    "except FileNotFoundError:\n",
    "    print(f\"❌ File not found: {csv_path}\")\n"
   ]
  }
 ],
 "metadata": {
  "kernelspec": {
   "display_name": "scaffolds",
   "language": "python",
   "name": "python3"
  },
  "language_info": {
   "codemirror_mode": {
    "name": "ipython",
    "version": 3
   },
   "file_extension": ".py",
   "mimetype": "text/x-python",
   "name": "python",
   "nbconvert_exporter": "python",
   "pygments_lexer": "ipython3",
   "version": "3.12.9"
  }
 },
 "nbformat": 4,
 "nbformat_minor": 5
}
