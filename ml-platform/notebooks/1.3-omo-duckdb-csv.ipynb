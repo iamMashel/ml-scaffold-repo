{
 "cells": [
  {
   "cell_type": "code",
   "execution_count": 9,
   "id": "1af6749c",
   "metadata": {},
   "outputs": [],
   "source": [
    "import duckdb\n",
    "import pandas as pd\n",
    "from pathlib import Path\n"
   ]
  },
  {
   "cell_type": "code",
   "execution_count": 8,
   "id": "44b10531",
   "metadata": {},
   "outputs": [
    {
     "data": {
      "text/html": [
       "<div>\n",
       "<style scoped>\n",
       "    .dataframe tbody tr th:only-of-type {\n",
       "        vertical-align: middle;\n",
       "    }\n",
       "\n",
       "    .dataframe tbody tr th {\n",
       "        vertical-align: top;\n",
       "    }\n",
       "\n",
       "    .dataframe thead th {\n",
       "        text-align: right;\n",
       "    }\n",
       "</style>\n",
       "<table border=\"1\" class=\"dataframe\">\n",
       "  <thead>\n",
       "    <tr style=\"text-align: right;\">\n",
       "      <th></th>\n",
       "      <th>code,response</th>\n",
       "    </tr>\n",
       "  </thead>\n",
       "  <tbody>\n",
       "    <tr>\n",
       "      <th>0</th>\n",
       "      <td>1,No</td>\n",
       "    </tr>\n",
       "    <tr>\n",
       "      <th>1</th>\n",
       "      <td>2,Yes</td>\n",
       "    </tr>\n",
       "  </tbody>\n",
       "</table>\n",
       "</div>"
      ],
      "text/plain": [
       "  code,response\n",
       "0          1,No\n",
       "1         2,Yes"
      ]
     },
     "execution_count": 8,
     "metadata": {},
     "output_type": "execute_result"
    }
   ],
   "source": [
    "# Write a function to load any csv file by name.\n",
    "def get_csv_path(filename):\n",
    "    \"\"\"\n",
    "    Returns the full path to a CSV file in the data/raw directory.\n",
    "    \"\"\"\n",
    "    project_root = Path.cwd() if (Path.cwd() / 'data').exists() else Path.cwd().parent\n",
    "    return project_root / 'data' / 'raw' / filename\n",
    "\n",
    "# Example usage:\n",
    "csv_path = get_csv_path('survey_data.csv')\n",
    "df = pd.read_csv(csv_path)\n",
    "df.head()\n",
    "\n",
    "# For DuckDB:\n",
    "def duckdb_read_csv(filename, **kwargs):\n",
    "    csv_path = get_csv_path(filename)\n",
    "    query = f\"\"\"\n",
    "    SELECT * FROM read_csv_auto(\n",
    "        '{csv_path.as_posix()}',\n",
    "        delim=';',\n",
    "        decimal_separator=',',\n",
    "        nullstr=' '\n",
    "    )\n",
    "    \"\"\"\n",
    "    return duckdb.query(query).to_df()\n",
    "\n",
    "# Example usage:\n",
    "duck_df = duckdb_read_csv('yes_no.csv')\n",
    "duck_df.head()"
   ]
  }
 ],
 "metadata": {
  "kernelspec": {
   "display_name": "scaffolds",
   "language": "python",
   "name": "python3"
  },
  "language_info": {
   "codemirror_mode": {
    "name": "ipython",
    "version": 3
   },
   "file_extension": ".py",
   "mimetype": "text/x-python",
   "name": "python",
   "nbconvert_exporter": "python",
   "pygments_lexer": "ipython3",
   "version": "3.12.9"
  }
 },
 "nbformat": 4,
 "nbformat_minor": 5
}
