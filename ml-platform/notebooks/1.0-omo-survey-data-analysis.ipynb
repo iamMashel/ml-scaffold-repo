{
 "cells": [
  {
   "cell_type": "markdown",
   "id": "8405b69b",
   "metadata": {},
   "source": [
    "This code-along analyses data from a survey about the growth of Finnish companies. The data reports the perceptions of top managers on growth, innovativeness, and the ability for renewal.\n",
    "\n",
    "### Where is the data from?\n",
    "\n",
    "- [Suominen & Pihlajamaa, 2022](https://www.sciencedirect.com/science/article/pii/S2352340922005261)\n",
    "- [The dataset](https://zenodo.org/records/5820394#.Y5OKl-zMK3I)\n",
    "\n",
    "### What will I learn today?\n",
    "\n",
    "- How to summarize and visualize questions with a numeric response using a histogram.\n",
    "- How to determine whether there is a difference between two groups of numeric responses using a Mann-Whitney U test.\n",
    "- How to summarize and visualize questions with a categorical response using a bar plot."
   ]
  },
  {
   "cell_type": "code",
   "execution_count": 9,
   "id": "0344cbea",
   "metadata": {},
   "outputs": [],
   "source": [
    "import sys\n",
    "import plotly.express as px\n",
    "from scipy.stats import mannwhitneyu\n",
    "from pathlib import Path #for relative path handling\n",
    "import pandas as pd \n",
    "import duckdb\n"
   ]
  },
  {
   "cell_type": "code",
   "execution_count": 10,
   "id": "192f5e30",
   "metadata": {},
   "outputs": [
    {
     "name": "stdout",
     "output_type": "stream",
     "text": [
      "✅ CSV loaded successfully: c:\\Users\\mashel\\Desktop\\ml-scaffolds\\ml-platform\\data\\raw\\survey_data.csv\n"
     ]
    },
    {
     "data": {
      "text/html": [
       "<div>\n",
       "<style scoped>\n",
       "    .dataframe tbody tr th:only-of-type {\n",
       "        vertical-align: middle;\n",
       "    }\n",
       "\n",
       "    .dataframe tbody tr th {\n",
       "        vertical-align: top;\n",
       "    }\n",
       "\n",
       "    .dataframe thead th {\n",
       "        text-align: right;\n",
       "    }\n",
       "</style>\n",
       "<table border=\"1\" class=\"dataframe\">\n",
       "  <thead>\n",
       "    <tr style=\"text-align: right;\">\n",
       "      <th></th>\n",
       "      <th></th>\n",
       "      <th>Growth_Firm;question_2_row_1_transformed;question_2_row_2_transformed;question_3_row_1;question_3_row_2;question_3_row_3;question_3_row_4;question_3_row_5;question_3_row_6;question_3_row_7;question_3_row_8;question_3_row_9;question_3_row_10;question_3_row_11;question_3_row_12;question_3_row_13;question_3_row_14;question_3_row_15;question_3_row_16;question_4_row_1;question_4_row_2;question_4_row_3;question_4_row_4;question_5_row_1;question_5_row_2;question_5_row_3;question_5_row_4;question_5_row_5;question_5_row_6;question_5_row_7;question_5_row_8;question_5_row_9;question_5_row_10;question_6_row_1;question_6_row_2;question_7_row_1</th>\n",
       "    </tr>\n",
       "  </thead>\n",
       "  <tbody>\n",
       "    <tr>\n",
       "      <th>0;35</th>\n",
       "      <th>1351351351351;50</th>\n",
       "      <td>7509391319659;4;5;5;4;3;3;4;4;4;2;2;2;2;4;4;3;...</td>\n",
       "    </tr>\n",
       "    <tr>\n",
       "      <th>0;23</th>\n",
       "      <th>0180426462548;51</th>\n",
       "      <td>182200341316;5;4;4;4;4;4;4;5;5;4;2;4;2;4;4;3;4...</td>\n",
       "    </tr>\n",
       "    <tr>\n",
       "      <th>0;86</th>\n",
       "      <th>6404715127701;62</th>\n",
       "      <td>9326385264931;3;4;4;4;4;3;4;5;3;3;3;5;3;4;4;4;...</td>\n",
       "    </tr>\n",
       "    <tr>\n",
       "      <th>0;17</th>\n",
       "      <th>6470588235294;39</th>\n",
       "      <td>1304347826087;3;4;5;4;4;4;5;5;3;3;4;5;4;4;5;3;...</td>\n",
       "    </tr>\n",
       "    <tr>\n",
       "      <th>0;60;32</th>\n",
       "      <th>8021248339973;4;4;4;4;3;4;4;4;5;5;2;3;1;2;4;2;4;2;2;2;2;2;2;4;2;4;2;3;3;4;5;2;2</th>\n",
       "      <td>NaN</td>\n",
       "    </tr>\n",
       "  </tbody>\n",
       "</table>\n",
       "</div>"
      ],
      "text/plain": [
       "                                                           Growth_Firm;question_2_row_1_transformed;question_2_row_2_transformed;question_3_row_1;question_3_row_2;question_3_row_3;question_3_row_4;question_3_row_5;question_3_row_6;question_3_row_7;question_3_row_8;question_3_row_9;question_3_row_10;question_3_row_11;question_3_row_12;question_3_row_13;question_3_row_14;question_3_row_15;question_3_row_16;question_4_row_1;question_4_row_2;question_4_row_3;question_4_row_4;question_5_row_1;question_5_row_2;question_5_row_3;question_5_row_4;question_5_row_5;question_5_row_6;question_5_row_7;question_5_row_8;question_5_row_9;question_5_row_10;question_6_row_1;question_6_row_2;question_7_row_1\n",
       "0;35    1351351351351;50                                    7509391319659;4;5;5;4;3;3;4;4;4;2;2;2;2;4;4;3;...                                                                                                                                                                                                                                                                                                                                                                                                                                                                                                                                                                                                            \n",
       "0;23    0180426462548;51                                    182200341316;5;4;4;4;4;4;4;5;5;4;2;4;2;4;4;3;4...                                                                                                                                                                                                                                                                                                                                                                                                                                                                                                                                                                                                            \n",
       "0;86    6404715127701;62                                    9326385264931;3;4;4;4;4;3;4;5;3;3;3;5;3;4;4;4;...                                                                                                                                                                                                                                                                                                                                                                                                                                                                                                                                                                                                            \n",
       "0;17    6470588235294;39                                    1304347826087;3;4;5;4;4;4;5;5;3;3;4;5;4;4;5;3;...                                                                                                                                                                                                                                                                                                                                                                                                                                                                                                                                                                                                            \n",
       "0;60;32 8021248339973;4;4;4;4;3;4;4;4;5;5;2;3;1;2;4;2;4...                                                NaN                                                                                                                                                                                                                                                                                                                                                                                                                                                                                                                                                                                                            "
      ]
     },
     "metadata": {},
     "output_type": "display_data"
    },
    {
     "data": {
      "text/html": [
       "<div>\n",
       "<style scoped>\n",
       "    .dataframe tbody tr th:only-of-type {\n",
       "        vertical-align: middle;\n",
       "    }\n",
       "\n",
       "    .dataframe tbody tr th {\n",
       "        vertical-align: top;\n",
       "    }\n",
       "\n",
       "    .dataframe thead th {\n",
       "        text-align: right;\n",
       "    }\n",
       "</style>\n",
       "<table border=\"1\" class=\"dataframe\">\n",
       "  <thead>\n",
       "    <tr style=\"text-align: right;\">\n",
       "      <th></th>\n",
       "      <th>Growth_Firm</th>\n",
       "      <th>question_2_row_1_transformed</th>\n",
       "      <th>question_2_row_2_transformed</th>\n",
       "      <th>question_3_row_1</th>\n",
       "      <th>question_3_row_2</th>\n",
       "      <th>question_3_row_3</th>\n",
       "      <th>question_3_row_4</th>\n",
       "      <th>question_3_row_5</th>\n",
       "      <th>question_3_row_6</th>\n",
       "      <th>question_3_row_7</th>\n",
       "      <th>...</th>\n",
       "      <th>question_5_row_4</th>\n",
       "      <th>question_5_row_5</th>\n",
       "      <th>question_5_row_6</th>\n",
       "      <th>question_5_row_7</th>\n",
       "      <th>question_5_row_8</th>\n",
       "      <th>question_5_row_9</th>\n",
       "      <th>question_5_row_10</th>\n",
       "      <th>question_6_row_1</th>\n",
       "      <th>question_6_row_2</th>\n",
       "      <th>question_7_row_1</th>\n",
       "    </tr>\n",
       "  </thead>\n",
       "  <tbody>\n",
       "    <tr>\n",
       "      <th>0</th>\n",
       "      <td>0</td>\n",
       "      <td>35.135135</td>\n",
       "      <td>50.750939</td>\n",
       "      <td>4</td>\n",
       "      <td>5</td>\n",
       "      <td>5</td>\n",
       "      <td>4</td>\n",
       "      <td>3</td>\n",
       "      <td>3</td>\n",
       "      <td>4</td>\n",
       "      <td>...</td>\n",
       "      <td>4</td>\n",
       "      <td>2</td>\n",
       "      <td>4</td>\n",
       "      <td>2</td>\n",
       "      <td>3</td>\n",
       "      <td>2</td>\n",
       "      <td>5</td>\n",
       "      <td>4</td>\n",
       "      <td>5</td>\n",
       "      <td>1</td>\n",
       "    </tr>\n",
       "    <tr>\n",
       "      <th>1</th>\n",
       "      <td>0</td>\n",
       "      <td>23.018043</td>\n",
       "      <td>51.182200</td>\n",
       "      <td>5</td>\n",
       "      <td>4</td>\n",
       "      <td>4</td>\n",
       "      <td>4</td>\n",
       "      <td>4</td>\n",
       "      <td>4</td>\n",
       "      <td>4</td>\n",
       "      <td>...</td>\n",
       "      <td>3</td>\n",
       "      <td>4</td>\n",
       "      <td>3</td>\n",
       "      <td>3</td>\n",
       "      <td>3</td>\n",
       "      <td>4</td>\n",
       "      <td>3</td>\n",
       "      <td>5</td>\n",
       "      <td>4</td>\n",
       "      <td>1</td>\n",
       "    </tr>\n",
       "    <tr>\n",
       "      <th>2</th>\n",
       "      <td>0</td>\n",
       "      <td>86.640472</td>\n",
       "      <td>62.932639</td>\n",
       "      <td>3</td>\n",
       "      <td>4</td>\n",
       "      <td>4</td>\n",
       "      <td>4</td>\n",
       "      <td>4</td>\n",
       "      <td>3</td>\n",
       "      <td>4</td>\n",
       "      <td>...</td>\n",
       "      <td>5</td>\n",
       "      <td>4</td>\n",
       "      <td>4</td>\n",
       "      <td>4</td>\n",
       "      <td>4</td>\n",
       "      <td>&lt;NA&gt;</td>\n",
       "      <td>&lt;NA&gt;</td>\n",
       "      <td>5</td>\n",
       "      <td>3</td>\n",
       "      <td>1</td>\n",
       "    </tr>\n",
       "    <tr>\n",
       "      <th>3</th>\n",
       "      <td>0</td>\n",
       "      <td>17.647059</td>\n",
       "      <td>39.130435</td>\n",
       "      <td>3</td>\n",
       "      <td>4</td>\n",
       "      <td>5</td>\n",
       "      <td>4</td>\n",
       "      <td>4</td>\n",
       "      <td>4</td>\n",
       "      <td>5</td>\n",
       "      <td>...</td>\n",
       "      <td>3</td>\n",
       "      <td>3</td>\n",
       "      <td>4</td>\n",
       "      <td>4</td>\n",
       "      <td>4</td>\n",
       "      <td>3</td>\n",
       "      <td>3</td>\n",
       "      <td>3</td>\n",
       "      <td>3</td>\n",
       "      <td>1</td>\n",
       "    </tr>\n",
       "    <tr>\n",
       "      <th>4</th>\n",
       "      <td>0</td>\n",
       "      <td>60.000000</td>\n",
       "      <td>32.802125</td>\n",
       "      <td>4</td>\n",
       "      <td>4</td>\n",
       "      <td>4</td>\n",
       "      <td>4</td>\n",
       "      <td>3</td>\n",
       "      <td>4</td>\n",
       "      <td>4</td>\n",
       "      <td>...</td>\n",
       "      <td>4</td>\n",
       "      <td>2</td>\n",
       "      <td>4</td>\n",
       "      <td>2</td>\n",
       "      <td>3</td>\n",
       "      <td>3</td>\n",
       "      <td>4</td>\n",
       "      <td>5</td>\n",
       "      <td>2</td>\n",
       "      <td>2</td>\n",
       "    </tr>\n",
       "  </tbody>\n",
       "</table>\n",
       "<p>5 rows × 36 columns</p>\n",
       "</div>"
      ],
      "text/plain": [
       "   Growth_Firm  question_2_row_1_transformed  question_2_row_2_transformed  \\\n",
       "0            0                     35.135135                     50.750939   \n",
       "1            0                     23.018043                     51.182200   \n",
       "2            0                     86.640472                     62.932639   \n",
       "3            0                     17.647059                     39.130435   \n",
       "4            0                     60.000000                     32.802125   \n",
       "\n",
       "   question_3_row_1  question_3_row_2  question_3_row_3  question_3_row_4  \\\n",
       "0                 4                 5                 5                 4   \n",
       "1                 5                 4                 4                 4   \n",
       "2                 3                 4                 4                 4   \n",
       "3                 3                 4                 5                 4   \n",
       "4                 4                 4                 4                 4   \n",
       "\n",
       "   question_3_row_5  question_3_row_6  question_3_row_7  ...  \\\n",
       "0                 3                 3                 4  ...   \n",
       "1                 4                 4                 4  ...   \n",
       "2                 4                 3                 4  ...   \n",
       "3                 4                 4                 5  ...   \n",
       "4                 3                 4                 4  ...   \n",
       "\n",
       "   question_5_row_4  question_5_row_5  question_5_row_6  question_5_row_7  \\\n",
       "0                 4                 2                 4                 2   \n",
       "1                 3                 4                 3                 3   \n",
       "2                 5                 4                 4                 4   \n",
       "3                 3                 3                 4                 4   \n",
       "4                 4                 2                 4                 2   \n",
       "\n",
       "   question_5_row_8  question_5_row_9  question_5_row_10  question_6_row_1  \\\n",
       "0                 3                 2                  5                 4   \n",
       "1                 3                 4                  3                 5   \n",
       "2                 4              <NA>               <NA>                 5   \n",
       "3                 4                 3                  3                 3   \n",
       "4                 3                 3                  4                 5   \n",
       "\n",
       "   question_6_row_2  question_7_row_1  \n",
       "0                 5                 1  \n",
       "1                 4                 1  \n",
       "2                 3                 1  \n",
       "3                 3                 1  \n",
       "4                 2                 2  \n",
       "\n",
       "[5 rows x 36 columns]"
      ]
     },
     "metadata": {},
     "output_type": "display_data"
    }
   ],
   "source": [
    "#Function to load any csv file by name thus avoiding chaning csv_path every time.\n",
    "sys.path.append(str(Path().resolve().parent / \"shared\" / \"utils\"))\n",
    "\n",
    "from data_loading import load_csv\n",
    "\n",
    "# Robust, reusable CSV loading\n",
    "df = load_csv('survey_data.csv')\n",
    "if df is not None:\n",
    "    display(df.head())\n",
    "\n",
    "from data_loading import duckdb_read_csv\n",
    "\n",
    "# Robust, reusable DuckDB CSV loading\n",
    "duck_df = duckdb_read_csv('survey_data.csv')\n",
    "if duck_df is not None:\n",
    "    display(duck_df.head())\n"
   ]
  },
  {
   "cell_type": "code",
   "execution_count": 11,
   "id": "9f1a4484",
   "metadata": {},
   "outputs": [
    {
     "name": "stdout",
     "output_type": "stream",
     "text": [
      "Row count: 120\n"
     ]
    }
   ],
   "source": [
    "#Create a duckdb connection for reuse\n",
    "from data_loading import get_csv_path\n",
    "\n",
    "csv_path = get_csv_path('survey_data.csv')\n",
    "count = duckdb.query(f\"\"\"\n",
    "    SELECT COUNT(*) FROM read_csv_auto(\n",
    "        '{csv_path.as_posix()}',\n",
    "        delim=';',\n",
    "        decimal_separator=',',\n",
    "        nullstr=' '\n",
    "    )\n",
    "\"\"\").fetchone()[0]\n",
    "print(f\"Row count: {count}\")\n",
    "    \n",
    "    "
   ]
  },
  {
   "cell_type": "code",
   "execution_count": 4,
   "id": "564faec1",
   "metadata": {},
   "outputs": [
    {
     "data": {
      "text/html": [
       "<div>\n",
       "<style scoped>\n",
       "    .dataframe tbody tr th:only-of-type {\n",
       "        vertical-align: middle;\n",
       "    }\n",
       "\n",
       "    .dataframe tbody tr th {\n",
       "        vertical-align: top;\n",
       "    }\n",
       "\n",
       "    .dataframe thead th {\n",
       "        text-align: right;\n",
       "    }\n",
       "</style>\n",
       "<table border=\"1\" class=\"dataframe\">\n",
       "  <thead>\n",
       "    <tr style=\"text-align: right;\">\n",
       "      <th></th>\n",
       "      <th>Growth_Firm</th>\n",
       "      <th>question_2_row_1_transformed</th>\n",
       "      <th>question_2_row_2_transformed</th>\n",
       "      <th>question_3_row_1</th>\n",
       "      <th>question_3_row_2</th>\n",
       "      <th>question_3_row_3</th>\n",
       "      <th>question_3_row_4</th>\n",
       "      <th>question_3_row_5</th>\n",
       "      <th>question_3_row_6</th>\n",
       "      <th>question_3_row_7</th>\n",
       "      <th>...</th>\n",
       "      <th>question_5_row_4</th>\n",
       "      <th>question_5_row_5</th>\n",
       "      <th>question_5_row_6</th>\n",
       "      <th>question_5_row_7</th>\n",
       "      <th>question_5_row_8</th>\n",
       "      <th>question_5_row_9</th>\n",
       "      <th>question_5_row_10</th>\n",
       "      <th>question_6_row_1</th>\n",
       "      <th>question_6_row_2</th>\n",
       "      <th>question_7_row_1</th>\n",
       "    </tr>\n",
       "  </thead>\n",
       "  <tbody>\n",
       "    <tr>\n",
       "      <th>0</th>\n",
       "      <td>0</td>\n",
       "      <td>35.135135</td>\n",
       "      <td>50.750939</td>\n",
       "      <td>4</td>\n",
       "      <td>5</td>\n",
       "      <td>5</td>\n",
       "      <td>4</td>\n",
       "      <td>3</td>\n",
       "      <td>3</td>\n",
       "      <td>4</td>\n",
       "      <td>...</td>\n",
       "      <td>4</td>\n",
       "      <td>2</td>\n",
       "      <td>4</td>\n",
       "      <td>2</td>\n",
       "      <td>3</td>\n",
       "      <td>2</td>\n",
       "      <td>5</td>\n",
       "      <td>4</td>\n",
       "      <td>5</td>\n",
       "      <td>1</td>\n",
       "    </tr>\n",
       "    <tr>\n",
       "      <th>1</th>\n",
       "      <td>0</td>\n",
       "      <td>23.018043</td>\n",
       "      <td>51.182200</td>\n",
       "      <td>5</td>\n",
       "      <td>4</td>\n",
       "      <td>4</td>\n",
       "      <td>4</td>\n",
       "      <td>4</td>\n",
       "      <td>4</td>\n",
       "      <td>4</td>\n",
       "      <td>...</td>\n",
       "      <td>3</td>\n",
       "      <td>4</td>\n",
       "      <td>3</td>\n",
       "      <td>3</td>\n",
       "      <td>3</td>\n",
       "      <td>4</td>\n",
       "      <td>3</td>\n",
       "      <td>5</td>\n",
       "      <td>4</td>\n",
       "      <td>1</td>\n",
       "    </tr>\n",
       "    <tr>\n",
       "      <th>2</th>\n",
       "      <td>0</td>\n",
       "      <td>86.640472</td>\n",
       "      <td>62.932639</td>\n",
       "      <td>3</td>\n",
       "      <td>4</td>\n",
       "      <td>4</td>\n",
       "      <td>4</td>\n",
       "      <td>4</td>\n",
       "      <td>3</td>\n",
       "      <td>4</td>\n",
       "      <td>...</td>\n",
       "      <td>5</td>\n",
       "      <td>4</td>\n",
       "      <td>4</td>\n",
       "      <td>4</td>\n",
       "      <td>4</td>\n",
       "      <td>&lt;NA&gt;</td>\n",
       "      <td>&lt;NA&gt;</td>\n",
       "      <td>5</td>\n",
       "      <td>3</td>\n",
       "      <td>1</td>\n",
       "    </tr>\n",
       "    <tr>\n",
       "      <th>3</th>\n",
       "      <td>0</td>\n",
       "      <td>17.647059</td>\n",
       "      <td>39.130435</td>\n",
       "      <td>3</td>\n",
       "      <td>4</td>\n",
       "      <td>5</td>\n",
       "      <td>4</td>\n",
       "      <td>4</td>\n",
       "      <td>4</td>\n",
       "      <td>5</td>\n",
       "      <td>...</td>\n",
       "      <td>3</td>\n",
       "      <td>3</td>\n",
       "      <td>4</td>\n",
       "      <td>4</td>\n",
       "      <td>4</td>\n",
       "      <td>3</td>\n",
       "      <td>3</td>\n",
       "      <td>3</td>\n",
       "      <td>3</td>\n",
       "      <td>1</td>\n",
       "    </tr>\n",
       "    <tr>\n",
       "      <th>4</th>\n",
       "      <td>0</td>\n",
       "      <td>60.000000</td>\n",
       "      <td>32.802125</td>\n",
       "      <td>4</td>\n",
       "      <td>4</td>\n",
       "      <td>4</td>\n",
       "      <td>4</td>\n",
       "      <td>3</td>\n",
       "      <td>4</td>\n",
       "      <td>4</td>\n",
       "      <td>...</td>\n",
       "      <td>4</td>\n",
       "      <td>2</td>\n",
       "      <td>4</td>\n",
       "      <td>2</td>\n",
       "      <td>3</td>\n",
       "      <td>3</td>\n",
       "      <td>4</td>\n",
       "      <td>5</td>\n",
       "      <td>2</td>\n",
       "      <td>2</td>\n",
       "    </tr>\n",
       "  </tbody>\n",
       "</table>\n",
       "<p>5 rows × 36 columns</p>\n",
       "</div>"
      ],
      "text/plain": [
       "   Growth_Firm  question_2_row_1_transformed  question_2_row_2_transformed  \\\n",
       "0            0                     35.135135                     50.750939   \n",
       "1            0                     23.018043                     51.182200   \n",
       "2            0                     86.640472                     62.932639   \n",
       "3            0                     17.647059                     39.130435   \n",
       "4            0                     60.000000                     32.802125   \n",
       "\n",
       "   question_3_row_1  question_3_row_2  question_3_row_3  question_3_row_4  \\\n",
       "0                 4                 5                 5                 4   \n",
       "1                 5                 4                 4                 4   \n",
       "2                 3                 4                 4                 4   \n",
       "3                 3                 4                 5                 4   \n",
       "4                 4                 4                 4                 4   \n",
       "\n",
       "   question_3_row_5  question_3_row_6  question_3_row_7  ...  \\\n",
       "0                 3                 3                 4  ...   \n",
       "1                 4                 4                 4  ...   \n",
       "2                 4                 3                 4  ...   \n",
       "3                 4                 4                 5  ...   \n",
       "4                 3                 4                 4  ...   \n",
       "\n",
       "   question_5_row_4  question_5_row_5  question_5_row_6  question_5_row_7  \\\n",
       "0                 4                 2                 4                 2   \n",
       "1                 3                 4                 3                 3   \n",
       "2                 5                 4                 4                 4   \n",
       "3                 3                 3                 4                 4   \n",
       "4                 4                 2                 4                 2   \n",
       "\n",
       "   question_5_row_8  question_5_row_9  question_5_row_10  question_6_row_1  \\\n",
       "0                 3                 2                  5                 4   \n",
       "1                 3                 4                  3                 5   \n",
       "2                 4              <NA>               <NA>                 5   \n",
       "3                 4                 3                  3                 3   \n",
       "4                 3                 3                  4                 5   \n",
       "\n",
       "   question_6_row_2  question_7_row_1  \n",
       "0                 5                 1  \n",
       "1                 4                 1  \n",
       "2                 3                 1  \n",
       "3                 3                 1  \n",
       "4                 2                 2  \n",
       "\n",
       "[5 rows x 36 columns]"
      ]
     },
     "execution_count": 4,
     "metadata": {},
     "output_type": "execute_result"
    }
   ],
   "source": [
    "# Select everything from survey_data.csv\n",
    "\n",
    "# Query survey_data.csv (adjust filename if needed)\n",
    "query = f\"\"\"\n",
    "SELECT * FROM read_csv_auto(\n",
    "    '{csv_path.as_posix()}',\n",
    "    delim=';',\n",
    "    decimal_separator=',',\n",
    "    nullstr=' '\n",
    ")\n",
    "\"\"\"\n",
    "df = duckdb.query(query).to_df()\n",
    "df.head()"
   ]
  },
  {
   "cell_type": "code",
   "execution_count": 5,
   "id": "9a772d67",
   "metadata": {},
   "outputs": [
    {
     "data": {
      "text/html": [
       "<div>\n",
       "<style scoped>\n",
       "    .dataframe tbody tr th:only-of-type {\n",
       "        vertical-align: middle;\n",
       "    }\n",
       "\n",
       "    .dataframe tbody tr th {\n",
       "        vertical-align: top;\n",
       "    }\n",
       "\n",
       "    .dataframe thead th {\n",
       "        text-align: right;\n",
       "    }\n",
       "</style>\n",
       "<table border=\"1\" class=\"dataframe\">\n",
       "  <thead>\n",
       "    <tr style=\"text-align: right;\">\n",
       "      <th></th>\n",
       "      <th>column,question,row,section,title,response_type</th>\n",
       "    </tr>\n",
       "  </thead>\n",
       "  <tbody>\n",
       "    <tr>\n",
       "      <th>0</th>\n",
       "      <td>question_2_row_1_transformed,2,1,estimated gro...</td>\n",
       "    </tr>\n",
       "    <tr>\n",
       "      <th>1</th>\n",
       "      <td>question_2_row_2_transformed,2,2,estimated gro...</td>\n",
       "    </tr>\n",
       "    <tr>\n",
       "      <th>2</th>\n",
       "      <td>question_3_row_1,3,1,company culture,Employees...</td>\n",
       "    </tr>\n",
       "    <tr>\n",
       "      <th>3</th>\n",
       "      <td>question_3_row_2,3,2,company culture,Managers ...</td>\n",
       "    </tr>\n",
       "    <tr>\n",
       "      <th>4</th>\n",
       "      <td>question_3_row_3,3,3,company culture,Employees...</td>\n",
       "    </tr>\n",
       "  </tbody>\n",
       "</table>\n",
       "</div>"
      ],
      "text/plain": [
       "     column,question,row,section,title,response_type\n",
       "0  question_2_row_1_transformed,2,1,estimated gro...\n",
       "1  question_2_row_2_transformed,2,2,estimated gro...\n",
       "2  question_3_row_1,3,1,company culture,Employees...\n",
       "3  question_3_row_2,3,2,company culture,Managers ...\n",
       "4  question_3_row_3,3,3,company culture,Employees..."
      ]
     },
     "execution_count": 5,
     "metadata": {},
     "output_type": "execute_result"
    }
   ],
   "source": [
    "# Select everything from survey_questions.csv\n",
    "\n",
    "csv_path = get_csv_path('survey_questions.csv')\n",
    "query = f\"\"\"\n",
    "SELECT * FROM read_csv_auto(\n",
    "    '{csv_path.as_posix()}',\n",
    "    delim=';',\n",
    "    decimal_separator=',',\n",
    "    nullstr=' '\n",
    ")\n",
    "\"\"\"\n",
    "df_questions = duckdb.query(query).to_df()\n",
    "df_questions.head()"
   ]
  },
  {
   "cell_type": "code",
   "execution_count": 6,
   "id": "04e47cec",
   "metadata": {},
   "outputs": [
    {
     "data": {
      "application/vnd.plotly.v1+json": {
       "config": {
        "plotlyServerURL": "https://plot.ly"
       },
       "data": [
        {
         "bingroup": "x",
         "hovertemplate": "Expected employee count in five years (as a percent from last available year)=%{x}<br>count=%{y}<extra></extra>",
         "legendgroup": "",
         "marker": {
          "color": "#636efa",
          "pattern": {
           "shape": ""
          }
         },
         "name": "",
         "orientation": "v",
         "showlegend": false,
         "type": "histogram",
         "x": {
          "bdata": "EPmsG0yRQUAAmV9xngQ3QIFXOnz9qFVAoqWlpaWlMUAAAAAAAABOQPKMdKZauvS/MtsnqgeNKECtqqqqqqpQQAAAAAAAwCJA4IMPPvigf0DD7/u+7/s6QAAAAAAAADRALUmSJEkSMEBz0UUXXXRUQAAAAAAAAElAHR4eHh4eU0DNZrPZbDZYQEG96U1v+m5AUXkN5TWUP0Dhtm3btm1FQIxfX19fX/+/IFcQkyuIGUAAAAAAAABZQB0eHh4eHlNAIUmSJEmSHEA9PDw8PHxzQAAAAAAAADlAeNu2bds2Z0BNXkN5DaV6QC6vobyG8kxAAAAAAADAYkCipaWlpaVBQFQOc5jDnGZAjdBeQnuJaEDRDabIZ42TQNV9eWxF0EzAgXzWDaZIZUBYVVVVVbWBQCFddNFFl2VALQzDMAxDYUDxoosuuih2QM1O7MRO7EpAbSd2Yif2aUDUOI7jOI5eQG5iJ3ZiJ2VA1MPDw8NDaEDSMAzDMAwzQAAAAAAA+JFAQrETO7ETN0CtqqqqqqpQQK6qqqqqqhrACw8PDw/vgkCmN73pTW9OQAAAAAAAIIxAsaqqqqrqdkAAAAAAAMBiQH8sZCELWV1AAAAAAACAa0CNv2ZHLSKCQGFVVVVV1WRAAAAAAAAAeUDxeWmgPi8dQAAAAAAAADlA+qwbTJFPd0Ck2Imd2MlxQAg2BxKtMGNAPlVVVVUVW0AAAAAAAABpQAAAAAAAADRA0OHh4eHRkEDfW9nnkJpfQEAWspCF7HRAO7ETO7ETV0DkusEU+axZQMxFF1100T9AjS666KKLTUDEIA3SII1jQL6lpaWlJV5AAAAAAACQakAfvUMxmNF3QAAAAAAAIExAw30E9xHcUkAAAAAAAABZQMHooosuenBAAAAAAADAckDW0tLS0nKIQOyQmmC8VXFACNT6lQK1REB/LGQhC1ldQDRJkiRJEmBALQzDMAyDd0CNLrroootNQMHooosuenBA5jiO4zgOckBhVVVVVfVnQDuxEzuxE1dAqKqqqqrqhkCtqqqqqqpQQAAAAAAAAFpAn6qqqqoqbUAex3Ecx3FDQCwsGuBe7FZAIV100UWXZUA+VVVVVRVbQLGqqqqq6nZAAAAAAADAYkCtqqqqqqpQQHjbtm3bNmdAAAAAAADAckAAAAAAAMAiQLGqqqqqynNAtW3btm3bUUDXchvXgEo/QAAAAAAAAElAinzWDaaojkC8EKyjzXtsQLGqqqqqynNAWFVVVVW1gUBm27Zt23Z9QKaqqqqqqkBA",
          "dtype": "f8"
         },
         "xaxis": "x",
         "yaxis": "y"
        }
       ],
       "layout": {
        "barmode": "relative",
        "legend": {
         "tracegroupgap": 0
        },
        "margin": {
         "t": 60
        },
        "template": {
         "data": {
          "bar": [
           {
            "error_x": {
             "color": "#2a3f5f"
            },
            "error_y": {
             "color": "#2a3f5f"
            },
            "marker": {
             "line": {
              "color": "#E5ECF6",
              "width": 0.5
             },
             "pattern": {
              "fillmode": "overlay",
              "size": 10,
              "solidity": 0.2
             }
            },
            "type": "bar"
           }
          ],
          "barpolar": [
           {
            "marker": {
             "line": {
              "color": "#E5ECF6",
              "width": 0.5
             },
             "pattern": {
              "fillmode": "overlay",
              "size": 10,
              "solidity": 0.2
             }
            },
            "type": "barpolar"
           }
          ],
          "carpet": [
           {
            "aaxis": {
             "endlinecolor": "#2a3f5f",
             "gridcolor": "white",
             "linecolor": "white",
             "minorgridcolor": "white",
             "startlinecolor": "#2a3f5f"
            },
            "baxis": {
             "endlinecolor": "#2a3f5f",
             "gridcolor": "white",
             "linecolor": "white",
             "minorgridcolor": "white",
             "startlinecolor": "#2a3f5f"
            },
            "type": "carpet"
           }
          ],
          "choropleth": [
           {
            "colorbar": {
             "outlinewidth": 0,
             "ticks": ""
            },
            "type": "choropleth"
           }
          ],
          "contour": [
           {
            "colorbar": {
             "outlinewidth": 0,
             "ticks": ""
            },
            "colorscale": [
             [
              0,
              "#0d0887"
             ],
             [
              0.1111111111111111,
              "#46039f"
             ],
             [
              0.2222222222222222,
              "#7201a8"
             ],
             [
              0.3333333333333333,
              "#9c179e"
             ],
             [
              0.4444444444444444,
              "#bd3786"
             ],
             [
              0.5555555555555556,
              "#d8576b"
             ],
             [
              0.6666666666666666,
              "#ed7953"
             ],
             [
              0.7777777777777778,
              "#fb9f3a"
             ],
             [
              0.8888888888888888,
              "#fdca26"
             ],
             [
              1,
              "#f0f921"
             ]
            ],
            "type": "contour"
           }
          ],
          "contourcarpet": [
           {
            "colorbar": {
             "outlinewidth": 0,
             "ticks": ""
            },
            "type": "contourcarpet"
           }
          ],
          "heatmap": [
           {
            "colorbar": {
             "outlinewidth": 0,
             "ticks": ""
            },
            "colorscale": [
             [
              0,
              "#0d0887"
             ],
             [
              0.1111111111111111,
              "#46039f"
             ],
             [
              0.2222222222222222,
              "#7201a8"
             ],
             [
              0.3333333333333333,
              "#9c179e"
             ],
             [
              0.4444444444444444,
              "#bd3786"
             ],
             [
              0.5555555555555556,
              "#d8576b"
             ],
             [
              0.6666666666666666,
              "#ed7953"
             ],
             [
              0.7777777777777778,
              "#fb9f3a"
             ],
             [
              0.8888888888888888,
              "#fdca26"
             ],
             [
              1,
              "#f0f921"
             ]
            ],
            "type": "heatmap"
           }
          ],
          "histogram": [
           {
            "marker": {
             "pattern": {
              "fillmode": "overlay",
              "size": 10,
              "solidity": 0.2
             }
            },
            "type": "histogram"
           }
          ],
          "histogram2d": [
           {
            "colorbar": {
             "outlinewidth": 0,
             "ticks": ""
            },
            "colorscale": [
             [
              0,
              "#0d0887"
             ],
             [
              0.1111111111111111,
              "#46039f"
             ],
             [
              0.2222222222222222,
              "#7201a8"
             ],
             [
              0.3333333333333333,
              "#9c179e"
             ],
             [
              0.4444444444444444,
              "#bd3786"
             ],
             [
              0.5555555555555556,
              "#d8576b"
             ],
             [
              0.6666666666666666,
              "#ed7953"
             ],
             [
              0.7777777777777778,
              "#fb9f3a"
             ],
             [
              0.8888888888888888,
              "#fdca26"
             ],
             [
              1,
              "#f0f921"
             ]
            ],
            "type": "histogram2d"
           }
          ],
          "histogram2dcontour": [
           {
            "colorbar": {
             "outlinewidth": 0,
             "ticks": ""
            },
            "colorscale": [
             [
              0,
              "#0d0887"
             ],
             [
              0.1111111111111111,
              "#46039f"
             ],
             [
              0.2222222222222222,
              "#7201a8"
             ],
             [
              0.3333333333333333,
              "#9c179e"
             ],
             [
              0.4444444444444444,
              "#bd3786"
             ],
             [
              0.5555555555555556,
              "#d8576b"
             ],
             [
              0.6666666666666666,
              "#ed7953"
             ],
             [
              0.7777777777777778,
              "#fb9f3a"
             ],
             [
              0.8888888888888888,
              "#fdca26"
             ],
             [
              1,
              "#f0f921"
             ]
            ],
            "type": "histogram2dcontour"
           }
          ],
          "mesh3d": [
           {
            "colorbar": {
             "outlinewidth": 0,
             "ticks": ""
            },
            "type": "mesh3d"
           }
          ],
          "parcoords": [
           {
            "line": {
             "colorbar": {
              "outlinewidth": 0,
              "ticks": ""
             }
            },
            "type": "parcoords"
           }
          ],
          "pie": [
           {
            "automargin": true,
            "type": "pie"
           }
          ],
          "scatter": [
           {
            "fillpattern": {
             "fillmode": "overlay",
             "size": 10,
             "solidity": 0.2
            },
            "type": "scatter"
           }
          ],
          "scatter3d": [
           {
            "line": {
             "colorbar": {
              "outlinewidth": 0,
              "ticks": ""
             }
            },
            "marker": {
             "colorbar": {
              "outlinewidth": 0,
              "ticks": ""
             }
            },
            "type": "scatter3d"
           }
          ],
          "scattercarpet": [
           {
            "marker": {
             "colorbar": {
              "outlinewidth": 0,
              "ticks": ""
             }
            },
            "type": "scattercarpet"
           }
          ],
          "scattergeo": [
           {
            "marker": {
             "colorbar": {
              "outlinewidth": 0,
              "ticks": ""
             }
            },
            "type": "scattergeo"
           }
          ],
          "scattergl": [
           {
            "marker": {
             "colorbar": {
              "outlinewidth": 0,
              "ticks": ""
             }
            },
            "type": "scattergl"
           }
          ],
          "scattermap": [
           {
            "marker": {
             "colorbar": {
              "outlinewidth": 0,
              "ticks": ""
             }
            },
            "type": "scattermap"
           }
          ],
          "scattermapbox": [
           {
            "marker": {
             "colorbar": {
              "outlinewidth": 0,
              "ticks": ""
             }
            },
            "type": "scattermapbox"
           }
          ],
          "scatterpolar": [
           {
            "marker": {
             "colorbar": {
              "outlinewidth": 0,
              "ticks": ""
             }
            },
            "type": "scatterpolar"
           }
          ],
          "scatterpolargl": [
           {
            "marker": {
             "colorbar": {
              "outlinewidth": 0,
              "ticks": ""
             }
            },
            "type": "scatterpolargl"
           }
          ],
          "scatterternary": [
           {
            "marker": {
             "colorbar": {
              "outlinewidth": 0,
              "ticks": ""
             }
            },
            "type": "scatterternary"
           }
          ],
          "surface": [
           {
            "colorbar": {
             "outlinewidth": 0,
             "ticks": ""
            },
            "colorscale": [
             [
              0,
              "#0d0887"
             ],
             [
              0.1111111111111111,
              "#46039f"
             ],
             [
              0.2222222222222222,
              "#7201a8"
             ],
             [
              0.3333333333333333,
              "#9c179e"
             ],
             [
              0.4444444444444444,
              "#bd3786"
             ],
             [
              0.5555555555555556,
              "#d8576b"
             ],
             [
              0.6666666666666666,
              "#ed7953"
             ],
             [
              0.7777777777777778,
              "#fb9f3a"
             ],
             [
              0.8888888888888888,
              "#fdca26"
             ],
             [
              1,
              "#f0f921"
             ]
            ],
            "type": "surface"
           }
          ],
          "table": [
           {
            "cells": {
             "fill": {
              "color": "#EBF0F8"
             },
             "line": {
              "color": "white"
             }
            },
            "header": {
             "fill": {
              "color": "#C8D4E3"
             },
             "line": {
              "color": "white"
             }
            },
            "type": "table"
           }
          ]
         },
         "layout": {
          "annotationdefaults": {
           "arrowcolor": "#2a3f5f",
           "arrowhead": 0,
           "arrowwidth": 1
          },
          "autotypenumbers": "strict",
          "coloraxis": {
           "colorbar": {
            "outlinewidth": 0,
            "ticks": ""
           }
          },
          "colorscale": {
           "diverging": [
            [
             0,
             "#8e0152"
            ],
            [
             0.1,
             "#c51b7d"
            ],
            [
             0.2,
             "#de77ae"
            ],
            [
             0.3,
             "#f1b6da"
            ],
            [
             0.4,
             "#fde0ef"
            ],
            [
             0.5,
             "#f7f7f7"
            ],
            [
             0.6,
             "#e6f5d0"
            ],
            [
             0.7,
             "#b8e186"
            ],
            [
             0.8,
             "#7fbc41"
            ],
            [
             0.9,
             "#4d9221"
            ],
            [
             1,
             "#276419"
            ]
           ],
           "sequential": [
            [
             0,
             "#0d0887"
            ],
            [
             0.1111111111111111,
             "#46039f"
            ],
            [
             0.2222222222222222,
             "#7201a8"
            ],
            [
             0.3333333333333333,
             "#9c179e"
            ],
            [
             0.4444444444444444,
             "#bd3786"
            ],
            [
             0.5555555555555556,
             "#d8576b"
            ],
            [
             0.6666666666666666,
             "#ed7953"
            ],
            [
             0.7777777777777778,
             "#fb9f3a"
            ],
            [
             0.8888888888888888,
             "#fdca26"
            ],
            [
             1,
             "#f0f921"
            ]
           ],
           "sequentialminus": [
            [
             0,
             "#0d0887"
            ],
            [
             0.1111111111111111,
             "#46039f"
            ],
            [
             0.2222222222222222,
             "#7201a8"
            ],
            [
             0.3333333333333333,
             "#9c179e"
            ],
            [
             0.4444444444444444,
             "#bd3786"
            ],
            [
             0.5555555555555556,
             "#d8576b"
            ],
            [
             0.6666666666666666,
             "#ed7953"
            ],
            [
             0.7777777777777778,
             "#fb9f3a"
            ],
            [
             0.8888888888888888,
             "#fdca26"
            ],
            [
             1,
             "#f0f921"
            ]
           ]
          },
          "colorway": [
           "#636efa",
           "#EF553B",
           "#00cc96",
           "#ab63fa",
           "#FFA15A",
           "#19d3f3",
           "#FF6692",
           "#B6E880",
           "#FF97FF",
           "#FECB52"
          ],
          "font": {
           "color": "#2a3f5f"
          },
          "geo": {
           "bgcolor": "white",
           "lakecolor": "white",
           "landcolor": "#E5ECF6",
           "showlakes": true,
           "showland": true,
           "subunitcolor": "white"
          },
          "hoverlabel": {
           "align": "left"
          },
          "hovermode": "closest",
          "mapbox": {
           "style": "light"
          },
          "paper_bgcolor": "white",
          "plot_bgcolor": "#E5ECF6",
          "polar": {
           "angularaxis": {
            "gridcolor": "white",
            "linecolor": "white",
            "ticks": ""
           },
           "bgcolor": "#E5ECF6",
           "radialaxis": {
            "gridcolor": "white",
            "linecolor": "white",
            "ticks": ""
           }
          },
          "scene": {
           "xaxis": {
            "backgroundcolor": "#E5ECF6",
            "gridcolor": "white",
            "gridwidth": 2,
            "linecolor": "white",
            "showbackground": true,
            "ticks": "",
            "zerolinecolor": "white"
           },
           "yaxis": {
            "backgroundcolor": "#E5ECF6",
            "gridcolor": "white",
            "gridwidth": 2,
            "linecolor": "white",
            "showbackground": true,
            "ticks": "",
            "zerolinecolor": "white"
           },
           "zaxis": {
            "backgroundcolor": "#E5ECF6",
            "gridcolor": "white",
            "gridwidth": 2,
            "linecolor": "white",
            "showbackground": true,
            "ticks": "",
            "zerolinecolor": "white"
           }
          },
          "shapedefaults": {
           "line": {
            "color": "#2a3f5f"
           }
          },
          "ternary": {
           "aaxis": {
            "gridcolor": "white",
            "linecolor": "white",
            "ticks": ""
           },
           "baxis": {
            "gridcolor": "white",
            "linecolor": "white",
            "ticks": ""
           },
           "bgcolor": "#E5ECF6",
           "caxis": {
            "gridcolor": "white",
            "linecolor": "white",
            "ticks": ""
           }
          },
          "title": {
           "x": 0.05
          },
          "xaxis": {
           "automargin": true,
           "gridcolor": "white",
           "linecolor": "white",
           "ticks": "",
           "title": {
            "standoff": 15
           },
           "zerolinecolor": "white",
           "zerolinewidth": 2
          },
          "yaxis": {
           "automargin": true,
           "gridcolor": "white",
           "linecolor": "white",
           "ticks": "",
           "title": {
            "standoff": 15
           },
           "zerolinecolor": "white",
           "zerolinewidth": 2
          }
         }
        },
        "xaxis": {
         "anchor": "y",
         "domain": [
          0,
          1
         ],
         "title": {
          "text": "Expected employee count in five years (as a percent from last available year)"
         }
        },
        "yaxis": {
         "anchor": "x",
         "domain": [
          0,
          1
         ],
         "title": {
          "text": "count"
         }
        }
       }
      }
     },
     "metadata": {},
     "output_type": "display_data"
    }
   ],
   "source": [
    "#Visualize with histogram\n",
    "px.histogram(\n",
    "  duck_df,\n",
    "  x=\"question_2_row_1_transformed\",\n",
    "  labels={\n",
    "        \"question_2_row_1_transformed\": \"Expected employee count in five years (as a percent from last available year)\"\n",
    "    }\n",
    ")"
   ]
  },
  {
   "cell_type": "code",
   "execution_count": 7,
   "id": "8f419bb3",
   "metadata": {},
   "outputs": [
    {
     "data": {
      "application/vnd.plotly.v1+json": {
       "config": {
        "plotlyServerURL": "https://plot.ly"
       },
       "data": [
        {
         "bingroup": "x",
         "hovertemplate": "Growth_Firm=0<br>Expected employee count in five years (as a percent from last available year)=%{x}<br>count=%{y}<extra></extra>",
         "legendgroup": "",
         "marker": {
          "color": "#636efa",
          "pattern": {
           "shape": ""
          }
         },
         "name": "",
         "orientation": "v",
         "showlegend": false,
         "type": "histogram",
         "x": {
          "bdata": "EPmsG0yRQUAAmV9xngQ3QIFXOnz9qFVAoqWlpaWlMUAAAAAAAABOQPKMdKZauvS/MtsnqgeNKECtqqqqqqpQQAAAAAAAwCJA4IMPPvigf0DD7/u+7/s6QAAAAAAAADRALUmSJEkSMEBz0UUXXXRUQAAAAAAAAElAHR4eHh4eU0DNZrPZbDZYQEG96U1v+m5AUXkN5TWUP0Dhtm3btm1FQIxfX19fX/+/IFcQkyuIGUAAAAAAAABZQB0eHh4eHlNAIUmSJEmSHEA9PDw8PHxzQAAAAAAAADlAeNu2bds2Z0BNXkN5DaV6QC6vobyG8kxAAAAAAADAYkCipaWlpaVBQFQOc5jDnGZAjdBeQnuJaEDRDabIZ42TQNV9eWxF0EzAgXzWDaZIZUBYVVVVVbWBQCFddNFFl2VALQzDMAxDYUDxoosuuih2QM1O7MRO7EpAbSd2Yif2aUDUOI7jOI5eQG5iJ3ZiJ2VA1MPDw8NDaEDSMAzDMAwzQAAAAAAA+JFAQrETO7ETN0CtqqqqqqpQQK6qqqqqqhrACw8PDw/vgkCmN73pTW9OQAAAAAAAIIxAsaqqqqrqdkAAAAAAAMBiQH8sZCELWV1AAAAAAACAa0A=",
          "dtype": "f8"
         },
         "xaxis": "x2",
         "yaxis": "y2"
        },
        {
         "bingroup": "x",
         "hovertemplate": "Growth_Firm=1<br>Expected employee count in five years (as a percent from last available year)=%{x}<br>count=%{y}<extra></extra>",
         "legendgroup": "",
         "marker": {
          "color": "#636efa",
          "pattern": {
           "shape": ""
          }
         },
         "name": "",
         "orientation": "v",
         "showlegend": false,
         "type": "histogram",
         "x": {
          "bdata": "jb9mRy0igkBhVVVVVdVkQAAAAAAAAHlA8XlpoD4vHUAAAAAAAAA5QPqsG0yRT3dApNiJndjJcUAINgcSrTBjQD5VVVVVFVtAAAAAAAAAaUAAAAAAAAA0QNDh4eHh0ZBA31vZ55CaX0BAFrKQhex0QDuxEzuxE1dA5LrBFPmsWUDMRRdddNE/QI0uuuiii01AxCAN0iCNY0C+paWlpSVeQAAAAAAAkGpAH71DMZjRd0AAAAAAACBMQMN9BPcR3FJAAAAAAAAAWUDB6KKLLnpwQAAAAAAAwHJA1tLS0tJyiEDskJpgvFVxQAjU+pUCtURAfyxkIQtZXUA0SZIkSRJgQC0MwzAMg3dAjS666KKLTUDB6KKLLnpwQOY4juM4DnJAYVVVVVX1Z0A7sRM7sRNXQKiqqqqq6oZAraqqqqqqUEAAAAAAAABaQJ+qqqqqKm1AHsdxHMdxQ0AsLBrgXuxWQCFddNFFl2VAPlVVVVUVW0Cxqqqqqup2QAAAAAAAwGJAraqqqqqqUEB427Zt2zZnQAAAAAAAwHJAAAAAAADAIkCxqqqqqspzQLVt27Zt21FA13Ib14BKP0AAAAAAAABJQIp81g2mqI5AvBCso817bECxqqqqqspzQFhVVVVVtYFAZtu2bdt2fUCmqqqqqqpAQA==",
          "dtype": "f8"
         },
         "xaxis": "x",
         "yaxis": "y"
        }
       ],
       "layout": {
        "annotations": [
         {
          "font": {},
          "showarrow": false,
          "text": "Growth_Firm=1",
          "textangle": 90,
          "x": 0.98,
          "xanchor": "left",
          "xref": "paper",
          "y": 0.2425,
          "yanchor": "middle",
          "yref": "paper"
         },
         {
          "font": {},
          "showarrow": false,
          "text": "Growth_Firm=0",
          "textangle": 90,
          "x": 0.98,
          "xanchor": "left",
          "xref": "paper",
          "y": 0.7575000000000001,
          "yanchor": "middle",
          "yref": "paper"
         }
        ],
        "barmode": "relative",
        "legend": {
         "tracegroupgap": 0
        },
        "margin": {
         "t": 60
        },
        "template": {
         "data": {
          "bar": [
           {
            "error_x": {
             "color": "#2a3f5f"
            },
            "error_y": {
             "color": "#2a3f5f"
            },
            "marker": {
             "line": {
              "color": "#E5ECF6",
              "width": 0.5
             },
             "pattern": {
              "fillmode": "overlay",
              "size": 10,
              "solidity": 0.2
             }
            },
            "type": "bar"
           }
          ],
          "barpolar": [
           {
            "marker": {
             "line": {
              "color": "#E5ECF6",
              "width": 0.5
             },
             "pattern": {
              "fillmode": "overlay",
              "size": 10,
              "solidity": 0.2
             }
            },
            "type": "barpolar"
           }
          ],
          "carpet": [
           {
            "aaxis": {
             "endlinecolor": "#2a3f5f",
             "gridcolor": "white",
             "linecolor": "white",
             "minorgridcolor": "white",
             "startlinecolor": "#2a3f5f"
            },
            "baxis": {
             "endlinecolor": "#2a3f5f",
             "gridcolor": "white",
             "linecolor": "white",
             "minorgridcolor": "white",
             "startlinecolor": "#2a3f5f"
            },
            "type": "carpet"
           }
          ],
          "choropleth": [
           {
            "colorbar": {
             "outlinewidth": 0,
             "ticks": ""
            },
            "type": "choropleth"
           }
          ],
          "contour": [
           {
            "colorbar": {
             "outlinewidth": 0,
             "ticks": ""
            },
            "colorscale": [
             [
              0,
              "#0d0887"
             ],
             [
              0.1111111111111111,
              "#46039f"
             ],
             [
              0.2222222222222222,
              "#7201a8"
             ],
             [
              0.3333333333333333,
              "#9c179e"
             ],
             [
              0.4444444444444444,
              "#bd3786"
             ],
             [
              0.5555555555555556,
              "#d8576b"
             ],
             [
              0.6666666666666666,
              "#ed7953"
             ],
             [
              0.7777777777777778,
              "#fb9f3a"
             ],
             [
              0.8888888888888888,
              "#fdca26"
             ],
             [
              1,
              "#f0f921"
             ]
            ],
            "type": "contour"
           }
          ],
          "contourcarpet": [
           {
            "colorbar": {
             "outlinewidth": 0,
             "ticks": ""
            },
            "type": "contourcarpet"
           }
          ],
          "heatmap": [
           {
            "colorbar": {
             "outlinewidth": 0,
             "ticks": ""
            },
            "colorscale": [
             [
              0,
              "#0d0887"
             ],
             [
              0.1111111111111111,
              "#46039f"
             ],
             [
              0.2222222222222222,
              "#7201a8"
             ],
             [
              0.3333333333333333,
              "#9c179e"
             ],
             [
              0.4444444444444444,
              "#bd3786"
             ],
             [
              0.5555555555555556,
              "#d8576b"
             ],
             [
              0.6666666666666666,
              "#ed7953"
             ],
             [
              0.7777777777777778,
              "#fb9f3a"
             ],
             [
              0.8888888888888888,
              "#fdca26"
             ],
             [
              1,
              "#f0f921"
             ]
            ],
            "type": "heatmap"
           }
          ],
          "histogram": [
           {
            "marker": {
             "pattern": {
              "fillmode": "overlay",
              "size": 10,
              "solidity": 0.2
             }
            },
            "type": "histogram"
           }
          ],
          "histogram2d": [
           {
            "colorbar": {
             "outlinewidth": 0,
             "ticks": ""
            },
            "colorscale": [
             [
              0,
              "#0d0887"
             ],
             [
              0.1111111111111111,
              "#46039f"
             ],
             [
              0.2222222222222222,
              "#7201a8"
             ],
             [
              0.3333333333333333,
              "#9c179e"
             ],
             [
              0.4444444444444444,
              "#bd3786"
             ],
             [
              0.5555555555555556,
              "#d8576b"
             ],
             [
              0.6666666666666666,
              "#ed7953"
             ],
             [
              0.7777777777777778,
              "#fb9f3a"
             ],
             [
              0.8888888888888888,
              "#fdca26"
             ],
             [
              1,
              "#f0f921"
             ]
            ],
            "type": "histogram2d"
           }
          ],
          "histogram2dcontour": [
           {
            "colorbar": {
             "outlinewidth": 0,
             "ticks": ""
            },
            "colorscale": [
             [
              0,
              "#0d0887"
             ],
             [
              0.1111111111111111,
              "#46039f"
             ],
             [
              0.2222222222222222,
              "#7201a8"
             ],
             [
              0.3333333333333333,
              "#9c179e"
             ],
             [
              0.4444444444444444,
              "#bd3786"
             ],
             [
              0.5555555555555556,
              "#d8576b"
             ],
             [
              0.6666666666666666,
              "#ed7953"
             ],
             [
              0.7777777777777778,
              "#fb9f3a"
             ],
             [
              0.8888888888888888,
              "#fdca26"
             ],
             [
              1,
              "#f0f921"
             ]
            ],
            "type": "histogram2dcontour"
           }
          ],
          "mesh3d": [
           {
            "colorbar": {
             "outlinewidth": 0,
             "ticks": ""
            },
            "type": "mesh3d"
           }
          ],
          "parcoords": [
           {
            "line": {
             "colorbar": {
              "outlinewidth": 0,
              "ticks": ""
             }
            },
            "type": "parcoords"
           }
          ],
          "pie": [
           {
            "automargin": true,
            "type": "pie"
           }
          ],
          "scatter": [
           {
            "fillpattern": {
             "fillmode": "overlay",
             "size": 10,
             "solidity": 0.2
            },
            "type": "scatter"
           }
          ],
          "scatter3d": [
           {
            "line": {
             "colorbar": {
              "outlinewidth": 0,
              "ticks": ""
             }
            },
            "marker": {
             "colorbar": {
              "outlinewidth": 0,
              "ticks": ""
             }
            },
            "type": "scatter3d"
           }
          ],
          "scattercarpet": [
           {
            "marker": {
             "colorbar": {
              "outlinewidth": 0,
              "ticks": ""
             }
            },
            "type": "scattercarpet"
           }
          ],
          "scattergeo": [
           {
            "marker": {
             "colorbar": {
              "outlinewidth": 0,
              "ticks": ""
             }
            },
            "type": "scattergeo"
           }
          ],
          "scattergl": [
           {
            "marker": {
             "colorbar": {
              "outlinewidth": 0,
              "ticks": ""
             }
            },
            "type": "scattergl"
           }
          ],
          "scattermap": [
           {
            "marker": {
             "colorbar": {
              "outlinewidth": 0,
              "ticks": ""
             }
            },
            "type": "scattermap"
           }
          ],
          "scattermapbox": [
           {
            "marker": {
             "colorbar": {
              "outlinewidth": 0,
              "ticks": ""
             }
            },
            "type": "scattermapbox"
           }
          ],
          "scatterpolar": [
           {
            "marker": {
             "colorbar": {
              "outlinewidth": 0,
              "ticks": ""
             }
            },
            "type": "scatterpolar"
           }
          ],
          "scatterpolargl": [
           {
            "marker": {
             "colorbar": {
              "outlinewidth": 0,
              "ticks": ""
             }
            },
            "type": "scatterpolargl"
           }
          ],
          "scatterternary": [
           {
            "marker": {
             "colorbar": {
              "outlinewidth": 0,
              "ticks": ""
             }
            },
            "type": "scatterternary"
           }
          ],
          "surface": [
           {
            "colorbar": {
             "outlinewidth": 0,
             "ticks": ""
            },
            "colorscale": [
             [
              0,
              "#0d0887"
             ],
             [
              0.1111111111111111,
              "#46039f"
             ],
             [
              0.2222222222222222,
              "#7201a8"
             ],
             [
              0.3333333333333333,
              "#9c179e"
             ],
             [
              0.4444444444444444,
              "#bd3786"
             ],
             [
              0.5555555555555556,
              "#d8576b"
             ],
             [
              0.6666666666666666,
              "#ed7953"
             ],
             [
              0.7777777777777778,
              "#fb9f3a"
             ],
             [
              0.8888888888888888,
              "#fdca26"
             ],
             [
              1,
              "#f0f921"
             ]
            ],
            "type": "surface"
           }
          ],
          "table": [
           {
            "cells": {
             "fill": {
              "color": "#EBF0F8"
             },
             "line": {
              "color": "white"
             }
            },
            "header": {
             "fill": {
              "color": "#C8D4E3"
             },
             "line": {
              "color": "white"
             }
            },
            "type": "table"
           }
          ]
         },
         "layout": {
          "annotationdefaults": {
           "arrowcolor": "#2a3f5f",
           "arrowhead": 0,
           "arrowwidth": 1
          },
          "autotypenumbers": "strict",
          "coloraxis": {
           "colorbar": {
            "outlinewidth": 0,
            "ticks": ""
           }
          },
          "colorscale": {
           "diverging": [
            [
             0,
             "#8e0152"
            ],
            [
             0.1,
             "#c51b7d"
            ],
            [
             0.2,
             "#de77ae"
            ],
            [
             0.3,
             "#f1b6da"
            ],
            [
             0.4,
             "#fde0ef"
            ],
            [
             0.5,
             "#f7f7f7"
            ],
            [
             0.6,
             "#e6f5d0"
            ],
            [
             0.7,
             "#b8e186"
            ],
            [
             0.8,
             "#7fbc41"
            ],
            [
             0.9,
             "#4d9221"
            ],
            [
             1,
             "#276419"
            ]
           ],
           "sequential": [
            [
             0,
             "#0d0887"
            ],
            [
             0.1111111111111111,
             "#46039f"
            ],
            [
             0.2222222222222222,
             "#7201a8"
            ],
            [
             0.3333333333333333,
             "#9c179e"
            ],
            [
             0.4444444444444444,
             "#bd3786"
            ],
            [
             0.5555555555555556,
             "#d8576b"
            ],
            [
             0.6666666666666666,
             "#ed7953"
            ],
            [
             0.7777777777777778,
             "#fb9f3a"
            ],
            [
             0.8888888888888888,
             "#fdca26"
            ],
            [
             1,
             "#f0f921"
            ]
           ],
           "sequentialminus": [
            [
             0,
             "#0d0887"
            ],
            [
             0.1111111111111111,
             "#46039f"
            ],
            [
             0.2222222222222222,
             "#7201a8"
            ],
            [
             0.3333333333333333,
             "#9c179e"
            ],
            [
             0.4444444444444444,
             "#bd3786"
            ],
            [
             0.5555555555555556,
             "#d8576b"
            ],
            [
             0.6666666666666666,
             "#ed7953"
            ],
            [
             0.7777777777777778,
             "#fb9f3a"
            ],
            [
             0.8888888888888888,
             "#fdca26"
            ],
            [
             1,
             "#f0f921"
            ]
           ]
          },
          "colorway": [
           "#636efa",
           "#EF553B",
           "#00cc96",
           "#ab63fa",
           "#FFA15A",
           "#19d3f3",
           "#FF6692",
           "#B6E880",
           "#FF97FF",
           "#FECB52"
          ],
          "font": {
           "color": "#2a3f5f"
          },
          "geo": {
           "bgcolor": "white",
           "lakecolor": "white",
           "landcolor": "#E5ECF6",
           "showlakes": true,
           "showland": true,
           "subunitcolor": "white"
          },
          "hoverlabel": {
           "align": "left"
          },
          "hovermode": "closest",
          "mapbox": {
           "style": "light"
          },
          "paper_bgcolor": "white",
          "plot_bgcolor": "#E5ECF6",
          "polar": {
           "angularaxis": {
            "gridcolor": "white",
            "linecolor": "white",
            "ticks": ""
           },
           "bgcolor": "#E5ECF6",
           "radialaxis": {
            "gridcolor": "white",
            "linecolor": "white",
            "ticks": ""
           }
          },
          "scene": {
           "xaxis": {
            "backgroundcolor": "#E5ECF6",
            "gridcolor": "white",
            "gridwidth": 2,
            "linecolor": "white",
            "showbackground": true,
            "ticks": "",
            "zerolinecolor": "white"
           },
           "yaxis": {
            "backgroundcolor": "#E5ECF6",
            "gridcolor": "white",
            "gridwidth": 2,
            "linecolor": "white",
            "showbackground": true,
            "ticks": "",
            "zerolinecolor": "white"
           },
           "zaxis": {
            "backgroundcolor": "#E5ECF6",
            "gridcolor": "white",
            "gridwidth": 2,
            "linecolor": "white",
            "showbackground": true,
            "ticks": "",
            "zerolinecolor": "white"
           }
          },
          "shapedefaults": {
           "line": {
            "color": "#2a3f5f"
           }
          },
          "ternary": {
           "aaxis": {
            "gridcolor": "white",
            "linecolor": "white",
            "ticks": ""
           },
           "baxis": {
            "gridcolor": "white",
            "linecolor": "white",
            "ticks": ""
           },
           "bgcolor": "#E5ECF6",
           "caxis": {
            "gridcolor": "white",
            "linecolor": "white",
            "ticks": ""
           }
          },
          "title": {
           "x": 0.05
          },
          "xaxis": {
           "automargin": true,
           "gridcolor": "white",
           "linecolor": "white",
           "ticks": "",
           "title": {
            "standoff": 15
           },
           "zerolinecolor": "white",
           "zerolinewidth": 2
          },
          "yaxis": {
           "automargin": true,
           "gridcolor": "white",
           "linecolor": "white",
           "ticks": "",
           "title": {
            "standoff": 15
           },
           "zerolinecolor": "white",
           "zerolinewidth": 2
          }
         }
        },
        "xaxis": {
         "anchor": "y",
         "domain": [
          0,
          0.98
         ],
         "title": {
          "text": "Expected employee count in five years (as a percent from last available year)"
         }
        },
        "xaxis2": {
         "anchor": "y2",
         "domain": [
          0,
          0.98
         ],
         "matches": "x",
         "showticklabels": false
        },
        "yaxis": {
         "anchor": "x",
         "domain": [
          0,
          0.485
         ],
         "title": {
          "text": "count"
         }
        },
        "yaxis2": {
         "anchor": "x2",
         "domain": [
          0.515,
          1
         ],
         "matches": "y",
         "title": {
          "text": "count"
         }
        }
       }
      }
     },
     "metadata": {},
     "output_type": "display_data"
    }
   ],
   "source": [
    "px.histogram(\n",
    "    duck_df, \n",
    "    x=\"question_2_row_1_transformed\",\n",
    "    facet_row=\"Growth_Firm\",\n",
    "    labels={\n",
    "        \"question_2_row_1_transformed\": \"Expected employee count in five years (as a percent from last available year)\"\n",
    "    }\n",
    ")"
   ]
  }
 ],
 "metadata": {
  "kernelspec": {
   "display_name": "scaffolds",
   "language": "python",
   "name": "python3"
  },
  "language_info": {
   "codemirror_mode": {
    "name": "ipython",
    "version": 3
   },
   "file_extension": ".py",
   "mimetype": "text/x-python",
   "name": "python",
   "nbconvert_exporter": "python",
   "pygments_lexer": "ipython3",
   "version": "3.12.9"
  }
 },
 "nbformat": 4,
 "nbformat_minor": 5
}
