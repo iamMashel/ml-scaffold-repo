{
 "cells": [
  {
   "cell_type": "markdown",
   "id": "8405b69b",
   "metadata": {},
   "source": [
    "This code-along analyses data from a survey about the growth of Finnish companies. The data reports the perceptions of top managers on growth, innovativeness, and the ability for renewal.\n",
    "\n",
    "### Where is the data from?\n",
    "\n",
    "- [Suominen & Pihlajamaa, 2022](https://www.sciencedirect.com/science/article/pii/S2352340922005261)\n",
    "- [The dataset](https://zenodo.org/records/5820394#.Y5OKl-zMK3I)\n",
    "\n",
    "### What will I learn today?\n",
    "\n",
    "- How to summarize and visualize questions with a numeric response using a histogram.\n",
    "- How to determine whether there is a difference between two groups of numeric responses using a Mann-Whitney U test.\n",
    "- How to summarize and visualize questions with a categorical response using a bar plot."
   ]
  },
  {
   "cell_type": "code",
   "execution_count": 1,
   "id": "0344cbea",
   "metadata": {},
   "outputs": [],
   "source": [
    "import plotly.express as px\n",
    "from scipy.stats import mannwhitneyu"
   ]
  },
  {
   "cell_type": "code",
   "execution_count": 3,
   "id": "bbcabeac",
   "metadata": {},
   "outputs": [
    {
     "ename": "SyntaxError",
     "evalue": "invalid syntax (3362231377.py, line 1)",
     "output_type": "error",
     "traceback": [
      "  \u001b[36mCell\u001b[39m\u001b[36m \u001b[39m\u001b[32mIn[3]\u001b[39m\u001b[32m, line 1\u001b[39m\n\u001b[31m    \u001b[39m\u001b[31mSELECT *\u001b[39m\n            ^\n\u001b[31mSyntaxError\u001b[39m\u001b[31m:\u001b[39m invalid syntax\n"
     ]
    }
   ],
   "source": [
    "SELECT *\n",
    "    FROM 'data/raw/survey_data.csv'"
   ]
  }
 ],
 "metadata": {
  "kernelspec": {
   "display_name": "scaffolds",
   "language": "python",
   "name": "python3"
  },
  "language_info": {
   "codemirror_mode": {
    "name": "ipython",
    "version": 3
   },
   "file_extension": ".py",
   "mimetype": "text/x-python",
   "name": "python",
   "nbconvert_exporter": "python",
   "pygments_lexer": "ipython3",
   "version": "3.12.9"
  }
 },
 "nbformat": 4,
 "nbformat_minor": 5
}
