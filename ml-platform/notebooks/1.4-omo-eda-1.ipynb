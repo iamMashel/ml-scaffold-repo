{
 "cells": [
  {
   "cell_type": "code",
   "execution_count": 1,
   "id": "ac61012c",
   "metadata": {},
   "outputs": [],
   "source": [
    "from pathlib import Path\n",
    "import pandas as pd"
   ]
  },
  {
   "cell_type": "code",
   "execution_count": 9,
   "id": "6c210de0",
   "metadata": {},
   "outputs": [
    {
     "data": {
      "text/plain": [
       "Pregnancies                 0\n",
       "Glucose                     0\n",
       "BloodPressure               0\n",
       "SkinThickness               0\n",
       "Insulin                     0\n",
       "BMI                         0\n",
       "DiabetesPedigreeFunction    0\n",
       "Age                         0\n",
       "Outcome                     0\n",
       "dtype: int64"
      ]
     },
     "execution_count": 9,
     "metadata": {},
     "output_type": "execute_result"
    }
   ],
   "source": [
    "def get_csv_path(filename):\n",
    "    \"\"\"\n",
    "    Returns the full path to a CSV file in the data/raw directory.\n",
    "    \"\"\"\n",
    "    project_root = Path.cwd() if (Path.cwd() / 'data').exists() else Path.cwd().parent\n",
    "    return project_root / 'data' / 'raw' / filename\n",
    "\n",
    "# Example usage:\n",
    "csv_path = get_csv_path('diabetes.csv')\n",
    "df = pd.read_csv(csv_path)\n",
    "df.head()\n",
    "df.describe()\n",
    "df.isnull().sum()\n"
   ]
  }
 ],
 "metadata": {
  "kernelspec": {
   "display_name": "scaffolds",
   "language": "python",
   "name": "python3"
  },
  "language_info": {
   "codemirror_mode": {
    "name": "ipython",
    "version": 3
   },
   "file_extension": ".py",
   "mimetype": "text/x-python",
   "name": "python",
   "nbconvert_exporter": "python",
   "pygments_lexer": "ipython3",
   "version": "3.12.9"
  }
 },
 "nbformat": 4,
 "nbformat_minor": 5
}
