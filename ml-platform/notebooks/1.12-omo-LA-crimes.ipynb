{
 "cells": [
  {
   "cell_type": "code",
   "execution_count": 6,
   "id": "5752da23",
   "metadata": {},
   "outputs": [],
   "source": [
    "import pandas as pd\n",
    "import numpy as np\n",
    "import matplotlib.pyplot as plt\n",
    "import seaborn as sns\n",
    "from pathlib import Path"
   ]
  },
  {
   "cell_type": "code",
   "execution_count": 8,
   "id": "fc1944d6",
   "metadata": {},
   "outputs": [
    {
     "name": "stdout",
     "output_type": "stream",
     "text": [
      "✅ c:\\Users\\mashel\\Desktop\\ml-scaffolds\\ml-platform\\data\\raw\\crimes.csv loaded successfully.\n"
     ]
    },
    {
     "data": {
      "text/html": [
       "<div>\n",
       "<style scoped>\n",
       "    .dataframe tbody tr th:only-of-type {\n",
       "        vertical-align: middle;\n",
       "    }\n",
       "\n",
       "    .dataframe tbody tr th {\n",
       "        vertical-align: top;\n",
       "    }\n",
       "\n",
       "    .dataframe thead th {\n",
       "        text-align: right;\n",
       "    }\n",
       "</style>\n",
       "<table border=\"1\" class=\"dataframe\">\n",
       "  <thead>\n",
       "    <tr style=\"text-align: right;\">\n",
       "      <th></th>\n",
       "      <th></th>\n",
       "      <th>Column\\tDescription</th>\n",
       "    </tr>\n",
       "  </thead>\n",
       "  <tbody>\n",
       "    <tr>\n",
       "      <th>'DR_NO'\\tDivision of Records Number: Official file number made up of a 2-digit year</th>\n",
       "      <th>area ID</th>\n",
       "      <td>and 5 digits.</td>\n",
       "    </tr>\n",
       "    <tr>\n",
       "      <th>'Date Rptd'\\tDate reported - MM/DD/YYYY.</th>\n",
       "      <th>NaN</th>\n",
       "      <td>NaN</td>\n",
       "    </tr>\n",
       "    <tr>\n",
       "      <th>'DATE OCC'\\tDate of occurrence - MM/DD/YYYY.</th>\n",
       "      <th>NaN</th>\n",
       "      <td>NaN</td>\n",
       "    </tr>\n",
       "    <tr>\n",
       "      <th>'TIME OCC'\\tIn 24-hour military time.</th>\n",
       "      <th>NaN</th>\n",
       "      <td>NaN</td>\n",
       "    </tr>\n",
       "    <tr>\n",
       "      <th>'AREA NAME'\\tThe 21 Geographic Areas or Patrol Divisions are also given a name designation that references a landmark or the surrounding community that it is responsible for. For example</th>\n",
       "      <th>the 77th Street Division is located at the intersection of South Broadway and 77th Street</th>\n",
       "      <td>serving neighborhoods in South Los Angeles.</td>\n",
       "    </tr>\n",
       "  </tbody>\n",
       "</table>\n",
       "</div>"
      ],
      "text/plain": [
       "                                                                                                                                Column\\tDescription\n",
       "'DR_NO'\\tDivision of Records Number: Official f... area ID                                                                            and 5 digits.\n",
       "'Date Rptd'\\tDate reported - MM/DD/YYYY.           NaN                                                                                          NaN\n",
       "'DATE OCC'\\tDate of occurrence - MM/DD/YYYY.       NaN                                                                                          NaN\n",
       "'TIME OCC'\\tIn 24-hour military time.              NaN                                                                                          NaN\n",
       "'AREA NAME'\\tThe 21 Geographic Areas or Patrol ... the 77th Street Division is located at the inte...   serving neighborhoods in South Los Angeles."
      ]
     },
     "metadata": {},
     "output_type": "display_data"
    }
   ],
   "source": [
    "#loading and inspecting the data\n",
    "if (Path.cwd() / 'data').exists():\n",
    "    project_root = Path.cwd()\n",
    "else:\n",
    "    project_root = Path.cwd().parents[0]\n",
    "\n",
    "# Define CSV path\n",
    "csv_path = project_root / 'data' / 'raw' / 'crimes.csv'\n",
    "\n",
    "# Load the CSV\n",
    "try:\n",
    "    crimes = pd.read_csv(csv_path, dtype={\"TIME OCC\": str})\n",
    "    print(f\"✅ {csv_path} loaded successfully.\")\n",
    "    display(crimes.head())\n",
    "except FileNotFoundError:\n",
    "    print(f\"❌ File not found: {csv_path}\")"
   ]
  },
  {
   "cell_type": "code",
   "execution_count": 9,
   "id": "5255cbdb",
   "metadata": {},
   "outputs": [
    {
     "ename": "KeyError",
     "evalue": "'TIME OCC'",
     "output_type": "error",
     "traceback": [
      "\u001b[31m---------------------------------------------------------------------------\u001b[39m",
      "\u001b[31mKeyError\u001b[39m                                  Traceback (most recent call last)",
      "\u001b[36mFile \u001b[39m\u001b[32mc:\\Users\\mashel\\miniconda3\\envs\\scaffolds\\Lib\\site-packages\\pandas\\core\\indexes\\base.py:3805\u001b[39m, in \u001b[36mIndex.get_loc\u001b[39m\u001b[34m(self, key)\u001b[39m\n\u001b[32m   3804\u001b[39m \u001b[38;5;28;01mtry\u001b[39;00m:\n\u001b[32m-> \u001b[39m\u001b[32m3805\u001b[39m     \u001b[38;5;28;01mreturn\u001b[39;00m \u001b[38;5;28;43mself\u001b[39;49m\u001b[43m.\u001b[49m\u001b[43m_engine\u001b[49m\u001b[43m.\u001b[49m\u001b[43mget_loc\u001b[49m\u001b[43m(\u001b[49m\u001b[43mcasted_key\u001b[49m\u001b[43m)\u001b[49m\n\u001b[32m   3806\u001b[39m \u001b[38;5;28;01mexcept\u001b[39;00m \u001b[38;5;167;01mKeyError\u001b[39;00m \u001b[38;5;28;01mas\u001b[39;00m err:\n",
      "\u001b[36mFile \u001b[39m\u001b[32mindex.pyx:167\u001b[39m, in \u001b[36mpandas._libs.index.IndexEngine.get_loc\u001b[39m\u001b[34m()\u001b[39m\n",
      "\u001b[36mFile \u001b[39m\u001b[32mindex.pyx:196\u001b[39m, in \u001b[36mpandas._libs.index.IndexEngine.get_loc\u001b[39m\u001b[34m()\u001b[39m\n",
      "\u001b[36mFile \u001b[39m\u001b[32mpandas\\\\_libs\\\\hashtable_class_helper.pxi:7081\u001b[39m, in \u001b[36mpandas._libs.hashtable.PyObjectHashTable.get_item\u001b[39m\u001b[34m()\u001b[39m\n",
      "\u001b[36mFile \u001b[39m\u001b[32mpandas\\\\_libs\\\\hashtable_class_helper.pxi:7089\u001b[39m, in \u001b[36mpandas._libs.hashtable.PyObjectHashTable.get_item\u001b[39m\u001b[34m()\u001b[39m\n",
      "\u001b[31mKeyError\u001b[39m: 'TIME OCC'",
      "\nThe above exception was the direct cause of the following exception:\n",
      "\u001b[31mKeyError\u001b[39m                                  Traceback (most recent call last)",
      "\u001b[36mCell\u001b[39m\u001b[36m \u001b[39m\u001b[32mIn[9]\u001b[39m\u001b[32m, line 5\u001b[39m\n\u001b[32m      1\u001b[39m \u001b[38;5;66;03m## Which hour has the highest frequency of crimes? Store as an integer variable called peak_crime_hour\u001b[39;00m\n\u001b[32m      2\u001b[39m \n\u001b[32m      3\u001b[39m \u001b[38;5;66;03m# Extract the first two digits from \"TIME OCC\", representing the hour,\u001b[39;00m\n\u001b[32m      4\u001b[39m \u001b[38;5;66;03m# and convert to integer data type\u001b[39;00m\n\u001b[32m----> \u001b[39m\u001b[32m5\u001b[39m crimes[\u001b[33m\"\u001b[39m\u001b[33mHOUR OCC\u001b[39m\u001b[33m\"\u001b[39m] = \u001b[43mcrimes\u001b[49m\u001b[43m[\u001b[49m\u001b[33;43m\"\u001b[39;49m\u001b[33;43mTIME OCC\u001b[39;49m\u001b[33;43m\"\u001b[39;49m\u001b[43m]\u001b[49m.str[:\u001b[32m2\u001b[39m].astype(\u001b[38;5;28mint\u001b[39m)\n\u001b[32m      7\u001b[39m \u001b[38;5;66;03m# Preview the DataFrame to confirm the new column is correct\u001b[39;00m\n\u001b[32m      8\u001b[39m crimes.head()\n",
      "\u001b[36mFile \u001b[39m\u001b[32mc:\\Users\\mashel\\miniconda3\\envs\\scaffolds\\Lib\\site-packages\\pandas\\core\\frame.py:4102\u001b[39m, in \u001b[36mDataFrame.__getitem__\u001b[39m\u001b[34m(self, key)\u001b[39m\n\u001b[32m   4100\u001b[39m \u001b[38;5;28;01mif\u001b[39;00m \u001b[38;5;28mself\u001b[39m.columns.nlevels > \u001b[32m1\u001b[39m:\n\u001b[32m   4101\u001b[39m     \u001b[38;5;28;01mreturn\u001b[39;00m \u001b[38;5;28mself\u001b[39m._getitem_multilevel(key)\n\u001b[32m-> \u001b[39m\u001b[32m4102\u001b[39m indexer = \u001b[38;5;28;43mself\u001b[39;49m\u001b[43m.\u001b[49m\u001b[43mcolumns\u001b[49m\u001b[43m.\u001b[49m\u001b[43mget_loc\u001b[49m\u001b[43m(\u001b[49m\u001b[43mkey\u001b[49m\u001b[43m)\u001b[49m\n\u001b[32m   4103\u001b[39m \u001b[38;5;28;01mif\u001b[39;00m is_integer(indexer):\n\u001b[32m   4104\u001b[39m     indexer = [indexer]\n",
      "\u001b[36mFile \u001b[39m\u001b[32mc:\\Users\\mashel\\miniconda3\\envs\\scaffolds\\Lib\\site-packages\\pandas\\core\\indexes\\base.py:3812\u001b[39m, in \u001b[36mIndex.get_loc\u001b[39m\u001b[34m(self, key)\u001b[39m\n\u001b[32m   3807\u001b[39m     \u001b[38;5;28;01mif\u001b[39;00m \u001b[38;5;28misinstance\u001b[39m(casted_key, \u001b[38;5;28mslice\u001b[39m) \u001b[38;5;129;01mor\u001b[39;00m (\n\u001b[32m   3808\u001b[39m         \u001b[38;5;28misinstance\u001b[39m(casted_key, abc.Iterable)\n\u001b[32m   3809\u001b[39m         \u001b[38;5;129;01mand\u001b[39;00m \u001b[38;5;28many\u001b[39m(\u001b[38;5;28misinstance\u001b[39m(x, \u001b[38;5;28mslice\u001b[39m) \u001b[38;5;28;01mfor\u001b[39;00m x \u001b[38;5;129;01min\u001b[39;00m casted_key)\n\u001b[32m   3810\u001b[39m     ):\n\u001b[32m   3811\u001b[39m         \u001b[38;5;28;01mraise\u001b[39;00m InvalidIndexError(key)\n\u001b[32m-> \u001b[39m\u001b[32m3812\u001b[39m     \u001b[38;5;28;01mraise\u001b[39;00m \u001b[38;5;167;01mKeyError\u001b[39;00m(key) \u001b[38;5;28;01mfrom\u001b[39;00m\u001b[38;5;250m \u001b[39m\u001b[34;01merr\u001b[39;00m\n\u001b[32m   3813\u001b[39m \u001b[38;5;28;01mexcept\u001b[39;00m \u001b[38;5;167;01mTypeError\u001b[39;00m:\n\u001b[32m   3814\u001b[39m     \u001b[38;5;66;03m# If we have a listlike key, _check_indexing_error will raise\u001b[39;00m\n\u001b[32m   3815\u001b[39m     \u001b[38;5;66;03m#  InvalidIndexError. Otherwise we fall through and re-raise\u001b[39;00m\n\u001b[32m   3816\u001b[39m     \u001b[38;5;66;03m#  the TypeError.\u001b[39;00m\n\u001b[32m   3817\u001b[39m     \u001b[38;5;28mself\u001b[39m._check_indexing_error(key)\n",
      "\u001b[31mKeyError\u001b[39m: 'TIME OCC'"
     ]
    }
   ],
   "source": [
    "\n",
    "## Which hour has the highest frequency of crimes? Store as an integer variable called peak_crime_hour\n",
    "\n",
    "# Extract the first two digits from \"TIME OCC\", representing the hour,\n",
    "# and convert to integer data type\n",
    "crimes[\"HOUR OCC\"] = crimes[\"TIME OCC\"].str[:2].astype(int)\n",
    "\n",
    "# Preview the DataFrame to confirm the new column is correct\n",
    "crimes.head()\n",
    "\n",
    "# Produce a countplot to find the largest frequency of crimes by hour\n",
    "sns.countplot(data=crimes, x=\"HOUR OCC\")\n",
    "plt.show()\n",
    "\n",
    "# Midday has the largest volume of crime\n",
    "peak_crime_hour = 12\n",
    "\n",
    "## Which area has the largest frequency of night crimes (crimes committed between 10pm and 3:59am)? \n",
    "## Save as a string variable called peak_night_crime_location\n",
    "# Filter for the night-time hours\n",
    "# 0 = midnight; 3 = crimes between 3am and 3:59am, i.e., don't include 4\n",
    "night_time = crimes[crimes[\"HOUR OCC\"].isin([22,23,0,1,2,3])]\n",
    "\n",
    "# Group by \"AREA NAME\" and count occurrences, filtering for the largest value and saving the \"AREA NAME\"\n",
    "peak_night_crime_location = night_time.groupby(\"AREA NAME\", \n",
    "                                               as_index=False)[\"HOUR OCC\"].count().sort_values(\"HOUR OCC\",\n",
    "                                                                                               ascending=False).iloc[0][\"AREA NAME\"]\n",
    "# Print the peak night crime location\n",
    "print(f\"The area with the largest volume of night crime is {peak_night_crime_location}\")\n",
    "\n",
    "## Identify the number of crimes committed against victims by age group (0-17, 18-25, 26-34, 35-44, 45-54, 55-64, 65+) \n",
    "## Save as a pandas Series called victim_ages\n",
    "# Create bins and labels for victim age ranges\n",
    "age_bins = [0, 17, 25, 34, 44, 54, 64, np.inf]\n",
    "age_labels = [\"0-17\", \"18-25\", \"26-34\", \"35-44\", \"45-54\", \"55-64\", \"65+\"]\n",
    "\n",
    "# Add a new column using pd.cut() to bin values into discrete intervals\n",
    "crimes[\"Age Bracket\"] = pd.cut(crimes[\"Vict Age\"],\n",
    "                               bins=age_bins,\n",
    "                               labels=age_labels)\n",
    "\n",
    "# Find the category with the largest frequency\n",
    "victim_ages = crimes[\"Age Bracket\"].value_counts()\n",
    "print(victim_ages)"
   ]
  }
 ],
 "metadata": {
  "kernelspec": {
   "display_name": "scaffolds",
   "language": "python",
   "name": "python3"
  },
  "language_info": {
   "codemirror_mode": {
    "name": "ipython",
    "version": 3
   },
   "file_extension": ".py",
   "mimetype": "text/x-python",
   "name": "python",
   "nbconvert_exporter": "python",
   "pygments_lexer": "ipython3",
   "version": "3.12.9"
  }
 },
 "nbformat": 4,
 "nbformat_minor": 5
}
